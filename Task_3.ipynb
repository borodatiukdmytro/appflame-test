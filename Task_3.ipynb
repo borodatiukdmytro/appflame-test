{
 "cells": [
  {
   "cell_type": "code",
   "execution_count": 223,
   "metadata": {},
   "outputs": [
    {
     "data": {
      "text/html": [
       "<div>\n",
       "<style scoped>\n",
       "    .dataframe tbody tr th:only-of-type {\n",
       "        vertical-align: middle;\n",
       "    }\n",
       "\n",
       "    .dataframe tbody tr th {\n",
       "        vertical-align: top;\n",
       "    }\n",
       "\n",
       "    .dataframe thead th {\n",
       "        text-align: right;\n",
       "    }\n",
       "</style>\n",
       "<table border=\"1\" class=\"dataframe\">\n",
       "  <thead>\n",
       "    <tr style=\"text-align: right;\">\n",
       "      <th></th>\n",
       "      <th>sender_id</th>\n",
       "      <th>platform_id</th>\n",
       "      <th>time_stamp</th>\n",
       "      <th>gender</th>\n",
       "      <th>reg_date</th>\n",
       "    </tr>\n",
       "  </thead>\n",
       "  <tbody>\n",
       "    <tr>\n",
       "      <th>0</th>\n",
       "      <td>3207526951</td>\n",
       "      <td>6</td>\n",
       "      <td>2017-03-16 13:35:00</td>\n",
       "      <td>m</td>\n",
       "      <td>2017-01-26</td>\n",
       "    </tr>\n",
       "    <tr>\n",
       "      <th>1</th>\n",
       "      <td>3207526951</td>\n",
       "      <td>6</td>\n",
       "      <td>2017-03-16 09:09:00</td>\n",
       "      <td>m</td>\n",
       "      <td>2017-01-26</td>\n",
       "    </tr>\n",
       "    <tr>\n",
       "      <th>2</th>\n",
       "      <td>3207526951</td>\n",
       "      <td>6</td>\n",
       "      <td>2017-03-16 09:09:00</td>\n",
       "      <td>m</td>\n",
       "      <td>2017-01-26</td>\n",
       "    </tr>\n",
       "    <tr>\n",
       "      <th>3</th>\n",
       "      <td>3207526951</td>\n",
       "      <td>6</td>\n",
       "      <td>2017-03-16 12:13:00</td>\n",
       "      <td>m</td>\n",
       "      <td>2017-01-26</td>\n",
       "    </tr>\n",
       "    <tr>\n",
       "      <th>4</th>\n",
       "      <td>3207526951</td>\n",
       "      <td>6</td>\n",
       "      <td>2017-03-15 14:01:00</td>\n",
       "      <td>m</td>\n",
       "      <td>2017-01-26</td>\n",
       "    </tr>\n",
       "  </tbody>\n",
       "</table>\n",
       "</div>"
      ],
      "text/plain": [
       "    sender_id  platform_id          time_stamp gender   reg_date\n",
       "0  3207526951            6 2017-03-16 13:35:00      m 2017-01-26\n",
       "1  3207526951            6 2017-03-16 09:09:00      m 2017-01-26\n",
       "2  3207526951            6 2017-03-16 09:09:00      m 2017-01-26\n",
       "3  3207526951            6 2017-03-16 12:13:00      m 2017-01-26\n",
       "4  3207526951            6 2017-03-15 14:01:00      m 2017-01-26"
      ]
     },
     "execution_count": 223,
     "metadata": {},
     "output_type": "execute_result"
    }
   ],
   "source": [
    "import pandas as pd\n",
    "data = pd.read_excel('Data_3.xlsx')\n",
    "data.head()"
   ]
  },
  {
   "cell_type": "code",
   "execution_count": 224,
   "metadata": {},
   "outputs": [
    {
     "name": "stdout",
     "output_type": "stream",
     "text": [
      "\n",
      " *_**_**_**_**_**_**_**_**_**_**_**_**_**_**_**_**_**_**_**_* \n",
      "\n",
      "Dataframe Makeup \n",
      "\n",
      "<class 'pandas.core.frame.DataFrame'>\n",
      "RangeIndex: 768439 entries, 0 to 768438\n",
      "Data columns (total 5 columns):\n",
      " #   Column       Non-Null Count   Dtype         \n",
      "---  ------       --------------   -----         \n",
      " 0   sender_id    768439 non-null  int64         \n",
      " 1   platform_id  768439 non-null  int64         \n",
      " 2   time_stamp   768439 non-null  datetime64[ns]\n",
      " 3   gender       768439 non-null  object        \n",
      " 4   reg_date     768439 non-null  datetime64[ns]\n",
      "dtypes: datetime64[ns](2), int64(2), object(1)\n",
      "memory usage: 29.3+ MB\n",
      "\n",
      " *_**_**_**_**_**_**_**_**_**_**_**_**_**_**_**_**_**_**_**_* \n",
      "\n",
      "Descriptive Statistics \n",
      "\n",
      "           sender_id  platform_id                     time_stamp  \\\n",
      "count  7.684390e+05    768439.00                         768439   \n",
      "mean   3.212627e+09         6.42  2017-03-19 07:19:35.681244672   \n",
      "min    3.201944e+09         6.00            2017-03-13 00:00:00   \n",
      "25%    3.208266e+09         6.00            2017-03-15 14:06:00   \n",
      "50%    3.214114e+09         6.00            2017-03-18 21:49:00   \n",
      "75%    3.216958e+09         7.00            2017-03-22 21:56:00   \n",
      "max    3.219311e+09         7.00            2017-03-27 00:00:00   \n",
      "std    5.060134e+06         0.49                            NaN   \n",
      "\n",
      "                            reg_date  \n",
      "count                         768439  \n",
      "mean   2017-02-20 13:51:57.079169792  \n",
      "min              2017-01-01 00:00:00  \n",
      "25%              2017-01-30 00:00:00  \n",
      "50%              2017-02-28 00:00:00  \n",
      "75%              2017-03-14 00:00:00  \n",
      "max              2017-03-26 00:00:00  \n",
      "std                              NaN  \n",
      "\n",
      " *_**_**_**_**_**_**_**_**_**_**_**_**_**_**_**_**_**_**_**_* \n",
      "\n",
      "Shape of dataframe: (768439, 5)\n",
      "\n",
      " *_**_**_**_**_**_**_**_**_**_**_**_**_**_**_**_**_**_**_**_* \n",
      "\n"
     ]
    }
   ],
   "source": [
    "def explore(x):\n",
    "    divider = \"*_*\"\n",
    "    print(\"\\n {} \\n\".format((divider*20))) #creates a dvider between each method output breaking at each end.\n",
    "    \n",
    "    print(\"Dataframe Makeup \\n\") #title for output.\n",
    "    \n",
    "    x.info() # Explains what the data and values the data is madeup from.\n",
    "    \n",
    "    print(\"\\n {} \\n\".format((divider*20))) #creates a dvider between each method output breaking at each end.\n",
    "    \n",
    "    print(\"Descriptive Statistics \\n\\n\", x.describe().round(2)) #Gives a statstical breakdown of the data.\n",
    "    \n",
    "    print(\"\\n {} \\n\".format((divider*20))) #creates a dvider between each method output breaking at each end.\n",
    "    \n",
    "    print(\"Shape of dataframe: {}\".format(x.shape)) # Gives the shape of the data.\n",
    "    \n",
    "    print(\"\\n {} \\n\".format((divider*20))) #creates a dvider between each method output breaking at each end.\n",
    "    return\n",
    "explore(data)"
   ]
  },
  {
   "cell_type": "markdown",
   "metadata": {},
   "source": [
    "Фільтрація даних по даті від початку запуску A/B тесту. "
   ]
  },
  {
   "cell_type": "code",
   "execution_count": 225,
   "metadata": {},
   "outputs": [
    {
     "data": {
      "text/html": [
       "<div>\n",
       "<style scoped>\n",
       "    .dataframe tbody tr th:only-of-type {\n",
       "        vertical-align: middle;\n",
       "    }\n",
       "\n",
       "    .dataframe tbody tr th {\n",
       "        vertical-align: top;\n",
       "    }\n",
       "\n",
       "    .dataframe thead th {\n",
       "        text-align: right;\n",
       "    }\n",
       "</style>\n",
       "<table border=\"1\" class=\"dataframe\">\n",
       "  <thead>\n",
       "    <tr style=\"text-align: right;\">\n",
       "      <th></th>\n",
       "      <th>sender_id</th>\n",
       "      <th>platform_id</th>\n",
       "      <th>time_stamp</th>\n",
       "      <th>gender</th>\n",
       "      <th>reg_date</th>\n",
       "    </tr>\n",
       "  </thead>\n",
       "  <tbody>\n",
       "    <tr>\n",
       "      <th>150270</th>\n",
       "      <td>3218748876</td>\n",
       "      <td>7</td>\n",
       "      <td>2017-03-26 08:34:00</td>\n",
       "      <td>f</td>\n",
       "      <td>2017-03-24</td>\n",
       "    </tr>\n",
       "    <tr>\n",
       "      <th>150271</th>\n",
       "      <td>3218748876</td>\n",
       "      <td>7</td>\n",
       "      <td>2017-03-26 08:33:00</td>\n",
       "      <td>f</td>\n",
       "      <td>2017-03-24</td>\n",
       "    </tr>\n",
       "    <tr>\n",
       "      <th>150272</th>\n",
       "      <td>3218748876</td>\n",
       "      <td>7</td>\n",
       "      <td>2017-03-26 08:35:00</td>\n",
       "      <td>f</td>\n",
       "      <td>2017-03-24</td>\n",
       "    </tr>\n",
       "    <tr>\n",
       "      <th>150273</th>\n",
       "      <td>3218748876</td>\n",
       "      <td>7</td>\n",
       "      <td>2017-03-26 08:21:00</td>\n",
       "      <td>f</td>\n",
       "      <td>2017-03-24</td>\n",
       "    </tr>\n",
       "    <tr>\n",
       "      <th>150274</th>\n",
       "      <td>3218748876</td>\n",
       "      <td>7</td>\n",
       "      <td>2017-03-26 08:21:00</td>\n",
       "      <td>f</td>\n",
       "      <td>2017-03-24</td>\n",
       "    </tr>\n",
       "    <tr>\n",
       "      <th>150275</th>\n",
       "      <td>3218748876</td>\n",
       "      <td>7</td>\n",
       "      <td>2017-03-26 08:21:00</td>\n",
       "      <td>f</td>\n",
       "      <td>2017-03-24</td>\n",
       "    </tr>\n",
       "    <tr>\n",
       "      <th>150276</th>\n",
       "      <td>3218748876</td>\n",
       "      <td>7</td>\n",
       "      <td>2017-03-26 08:41:00</td>\n",
       "      <td>f</td>\n",
       "      <td>2017-03-24</td>\n",
       "    </tr>\n",
       "    <tr>\n",
       "      <th>150277</th>\n",
       "      <td>3218748876</td>\n",
       "      <td>7</td>\n",
       "      <td>2017-03-26 08:38:00</td>\n",
       "      <td>f</td>\n",
       "      <td>2017-03-24</td>\n",
       "    </tr>\n",
       "    <tr>\n",
       "      <th>150278</th>\n",
       "      <td>3218748876</td>\n",
       "      <td>7</td>\n",
       "      <td>2017-03-26 08:38:00</td>\n",
       "      <td>f</td>\n",
       "      <td>2017-03-24</td>\n",
       "    </tr>\n",
       "    <tr>\n",
       "      <th>150279</th>\n",
       "      <td>3218748876</td>\n",
       "      <td>7</td>\n",
       "      <td>2017-03-26 08:44:00</td>\n",
       "      <td>f</td>\n",
       "      <td>2017-03-24</td>\n",
       "    </tr>\n",
       "    <tr>\n",
       "      <th>150280</th>\n",
       "      <td>3218748876</td>\n",
       "      <td>7</td>\n",
       "      <td>2017-03-26 08:36:00</td>\n",
       "      <td>f</td>\n",
       "      <td>2017-03-24</td>\n",
       "    </tr>\n",
       "    <tr>\n",
       "      <th>150281</th>\n",
       "      <td>3218748876</td>\n",
       "      <td>7</td>\n",
       "      <td>2017-03-26 08:38:00</td>\n",
       "      <td>f</td>\n",
       "      <td>2017-03-24</td>\n",
       "    </tr>\n",
       "    <tr>\n",
       "      <th>150282</th>\n",
       "      <td>3218748876</td>\n",
       "      <td>7</td>\n",
       "      <td>2017-03-26 07:47:00</td>\n",
       "      <td>f</td>\n",
       "      <td>2017-03-24</td>\n",
       "    </tr>\n",
       "    <tr>\n",
       "      <th>150283</th>\n",
       "      <td>3218748876</td>\n",
       "      <td>7</td>\n",
       "      <td>2017-03-26 08:33:00</td>\n",
       "      <td>f</td>\n",
       "      <td>2017-03-24</td>\n",
       "    </tr>\n",
       "    <tr>\n",
       "      <th>150284</th>\n",
       "      <td>3218748876</td>\n",
       "      <td>7</td>\n",
       "      <td>2017-03-26 08:36:00</td>\n",
       "      <td>f</td>\n",
       "      <td>2017-03-24</td>\n",
       "    </tr>\n",
       "    <tr>\n",
       "      <th>150285</th>\n",
       "      <td>3218748876</td>\n",
       "      <td>7</td>\n",
       "      <td>2017-03-26 08:36:00</td>\n",
       "      <td>f</td>\n",
       "      <td>2017-03-24</td>\n",
       "    </tr>\n",
       "    <tr>\n",
       "      <th>150286</th>\n",
       "      <td>3218748876</td>\n",
       "      <td>7</td>\n",
       "      <td>2017-03-26 08:39:00</td>\n",
       "      <td>f</td>\n",
       "      <td>2017-03-24</td>\n",
       "    </tr>\n",
       "    <tr>\n",
       "      <th>150287</th>\n",
       "      <td>3218748876</td>\n",
       "      <td>7</td>\n",
       "      <td>2017-03-26 07:44:00</td>\n",
       "      <td>f</td>\n",
       "      <td>2017-03-24</td>\n",
       "    </tr>\n",
       "    <tr>\n",
       "      <th>150288</th>\n",
       "      <td>3218748876</td>\n",
       "      <td>7</td>\n",
       "      <td>2017-03-26 09:12:00</td>\n",
       "      <td>f</td>\n",
       "      <td>2017-03-24</td>\n",
       "    </tr>\n",
       "    <tr>\n",
       "      <th>150289</th>\n",
       "      <td>3218748876</td>\n",
       "      <td>7</td>\n",
       "      <td>2017-03-26 09:12:00</td>\n",
       "      <td>f</td>\n",
       "      <td>2017-03-24</td>\n",
       "    </tr>\n",
       "  </tbody>\n",
       "</table>\n",
       "</div>"
      ],
      "text/plain": [
       "         sender_id  platform_id          time_stamp gender   reg_date\n",
       "150270  3218748876            7 2017-03-26 08:34:00      f 2017-03-24\n",
       "150271  3218748876            7 2017-03-26 08:33:00      f 2017-03-24\n",
       "150272  3218748876            7 2017-03-26 08:35:00      f 2017-03-24\n",
       "150273  3218748876            7 2017-03-26 08:21:00      f 2017-03-24\n",
       "150274  3218748876            7 2017-03-26 08:21:00      f 2017-03-24\n",
       "150275  3218748876            7 2017-03-26 08:21:00      f 2017-03-24\n",
       "150276  3218748876            7 2017-03-26 08:41:00      f 2017-03-24\n",
       "150277  3218748876            7 2017-03-26 08:38:00      f 2017-03-24\n",
       "150278  3218748876            7 2017-03-26 08:38:00      f 2017-03-24\n",
       "150279  3218748876            7 2017-03-26 08:44:00      f 2017-03-24\n",
       "150280  3218748876            7 2017-03-26 08:36:00      f 2017-03-24\n",
       "150281  3218748876            7 2017-03-26 08:38:00      f 2017-03-24\n",
       "150282  3218748876            7 2017-03-26 07:47:00      f 2017-03-24\n",
       "150283  3218748876            7 2017-03-26 08:33:00      f 2017-03-24\n",
       "150284  3218748876            7 2017-03-26 08:36:00      f 2017-03-24\n",
       "150285  3218748876            7 2017-03-26 08:36:00      f 2017-03-24\n",
       "150286  3218748876            7 2017-03-26 08:39:00      f 2017-03-24\n",
       "150287  3218748876            7 2017-03-26 07:44:00      f 2017-03-24\n",
       "150288  3218748876            7 2017-03-26 09:12:00      f 2017-03-24\n",
       "150289  3218748876            7 2017-03-26 09:12:00      f 2017-03-24"
      ]
     },
     "execution_count": 225,
     "metadata": {},
     "output_type": "execute_result"
    }
   ],
   "source": [
    "test_data = data[(data['time_stamp'] >= \"2017-03-24 16:00\") & (data['reg_date'] >= \"2017-03-24\")]\n",
    "test_data.head(20)"
   ]
  },
  {
   "cell_type": "code",
   "execution_count": 226,
   "metadata": {},
   "outputs": [
    {
     "data": {
      "text/plain": [
       "(25134, 5)"
      ]
     },
     "execution_count": 226,
     "metadata": {},
     "output_type": "execute_result"
    }
   ],
   "source": [
    "test_data.shape"
   ]
  },
  {
   "cell_type": "markdown",
   "metadata": {},
   "source": [
    "Розподіл на тестову та контрольну вибірку"
   ]
  },
  {
   "cell_type": "code",
   "execution_count": 227,
   "metadata": {},
   "outputs": [
    {
     "name": "stderr",
     "output_type": "stream",
     "text": [
      "C:\\Users\\asus\\AppData\\Local\\Temp\\ipykernel_13744\\527756038.py:2: SettingWithCopyWarning: \n",
      "A value is trying to be set on a copy of a slice from a DataFrame.\n",
      "Try using .loc[row_indexer,col_indexer] = value instead\n",
      "\n",
      "See the caveats in the documentation: https://pandas.pydata.org/pandas-docs/stable/user_guide/indexing.html#returning-a-view-versus-a-copy\n",
      "  test_data['group'] = np.where(test_data['sender_id'] % 2 == 0, 'control', 'test')\n"
     ]
    },
    {
     "data": {
      "text/html": [
       "<div>\n",
       "<style scoped>\n",
       "    .dataframe tbody tr th:only-of-type {\n",
       "        vertical-align: middle;\n",
       "    }\n",
       "\n",
       "    .dataframe tbody tr th {\n",
       "        vertical-align: top;\n",
       "    }\n",
       "\n",
       "    .dataframe thead th {\n",
       "        text-align: right;\n",
       "    }\n",
       "</style>\n",
       "<table border=\"1\" class=\"dataframe\">\n",
       "  <thead>\n",
       "    <tr style=\"text-align: right;\">\n",
       "      <th></th>\n",
       "      <th>sender_id</th>\n",
       "      <th>platform_id</th>\n",
       "      <th>time_stamp</th>\n",
       "      <th>gender</th>\n",
       "      <th>reg_date</th>\n",
       "      <th>group</th>\n",
       "    </tr>\n",
       "  </thead>\n",
       "  <tbody>\n",
       "    <tr>\n",
       "      <th>150270</th>\n",
       "      <td>3218748876</td>\n",
       "      <td>7</td>\n",
       "      <td>2017-03-26 08:34:00</td>\n",
       "      <td>f</td>\n",
       "      <td>2017-03-24</td>\n",
       "      <td>control</td>\n",
       "    </tr>\n",
       "    <tr>\n",
       "      <th>150271</th>\n",
       "      <td>3218748876</td>\n",
       "      <td>7</td>\n",
       "      <td>2017-03-26 08:33:00</td>\n",
       "      <td>f</td>\n",
       "      <td>2017-03-24</td>\n",
       "      <td>control</td>\n",
       "    </tr>\n",
       "    <tr>\n",
       "      <th>150272</th>\n",
       "      <td>3218748876</td>\n",
       "      <td>7</td>\n",
       "      <td>2017-03-26 08:35:00</td>\n",
       "      <td>f</td>\n",
       "      <td>2017-03-24</td>\n",
       "      <td>control</td>\n",
       "    </tr>\n",
       "    <tr>\n",
       "      <th>150273</th>\n",
       "      <td>3218748876</td>\n",
       "      <td>7</td>\n",
       "      <td>2017-03-26 08:21:00</td>\n",
       "      <td>f</td>\n",
       "      <td>2017-03-24</td>\n",
       "      <td>control</td>\n",
       "    </tr>\n",
       "    <tr>\n",
       "      <th>150274</th>\n",
       "      <td>3218748876</td>\n",
       "      <td>7</td>\n",
       "      <td>2017-03-26 08:21:00</td>\n",
       "      <td>f</td>\n",
       "      <td>2017-03-24</td>\n",
       "      <td>control</td>\n",
       "    </tr>\n",
       "    <tr>\n",
       "      <th>150275</th>\n",
       "      <td>3218748876</td>\n",
       "      <td>7</td>\n",
       "      <td>2017-03-26 08:21:00</td>\n",
       "      <td>f</td>\n",
       "      <td>2017-03-24</td>\n",
       "      <td>control</td>\n",
       "    </tr>\n",
       "    <tr>\n",
       "      <th>150276</th>\n",
       "      <td>3218748876</td>\n",
       "      <td>7</td>\n",
       "      <td>2017-03-26 08:41:00</td>\n",
       "      <td>f</td>\n",
       "      <td>2017-03-24</td>\n",
       "      <td>control</td>\n",
       "    </tr>\n",
       "    <tr>\n",
       "      <th>150277</th>\n",
       "      <td>3218748876</td>\n",
       "      <td>7</td>\n",
       "      <td>2017-03-26 08:38:00</td>\n",
       "      <td>f</td>\n",
       "      <td>2017-03-24</td>\n",
       "      <td>control</td>\n",
       "    </tr>\n",
       "    <tr>\n",
       "      <th>150278</th>\n",
       "      <td>3218748876</td>\n",
       "      <td>7</td>\n",
       "      <td>2017-03-26 08:38:00</td>\n",
       "      <td>f</td>\n",
       "      <td>2017-03-24</td>\n",
       "      <td>control</td>\n",
       "    </tr>\n",
       "    <tr>\n",
       "      <th>150279</th>\n",
       "      <td>3218748876</td>\n",
       "      <td>7</td>\n",
       "      <td>2017-03-26 08:44:00</td>\n",
       "      <td>f</td>\n",
       "      <td>2017-03-24</td>\n",
       "      <td>control</td>\n",
       "    </tr>\n",
       "    <tr>\n",
       "      <th>150280</th>\n",
       "      <td>3218748876</td>\n",
       "      <td>7</td>\n",
       "      <td>2017-03-26 08:36:00</td>\n",
       "      <td>f</td>\n",
       "      <td>2017-03-24</td>\n",
       "      <td>control</td>\n",
       "    </tr>\n",
       "    <tr>\n",
       "      <th>150281</th>\n",
       "      <td>3218748876</td>\n",
       "      <td>7</td>\n",
       "      <td>2017-03-26 08:38:00</td>\n",
       "      <td>f</td>\n",
       "      <td>2017-03-24</td>\n",
       "      <td>control</td>\n",
       "    </tr>\n",
       "    <tr>\n",
       "      <th>150282</th>\n",
       "      <td>3218748876</td>\n",
       "      <td>7</td>\n",
       "      <td>2017-03-26 07:47:00</td>\n",
       "      <td>f</td>\n",
       "      <td>2017-03-24</td>\n",
       "      <td>control</td>\n",
       "    </tr>\n",
       "    <tr>\n",
       "      <th>150283</th>\n",
       "      <td>3218748876</td>\n",
       "      <td>7</td>\n",
       "      <td>2017-03-26 08:33:00</td>\n",
       "      <td>f</td>\n",
       "      <td>2017-03-24</td>\n",
       "      <td>control</td>\n",
       "    </tr>\n",
       "    <tr>\n",
       "      <th>150284</th>\n",
       "      <td>3218748876</td>\n",
       "      <td>7</td>\n",
       "      <td>2017-03-26 08:36:00</td>\n",
       "      <td>f</td>\n",
       "      <td>2017-03-24</td>\n",
       "      <td>control</td>\n",
       "    </tr>\n",
       "    <tr>\n",
       "      <th>150285</th>\n",
       "      <td>3218748876</td>\n",
       "      <td>7</td>\n",
       "      <td>2017-03-26 08:36:00</td>\n",
       "      <td>f</td>\n",
       "      <td>2017-03-24</td>\n",
       "      <td>control</td>\n",
       "    </tr>\n",
       "    <tr>\n",
       "      <th>150286</th>\n",
       "      <td>3218748876</td>\n",
       "      <td>7</td>\n",
       "      <td>2017-03-26 08:39:00</td>\n",
       "      <td>f</td>\n",
       "      <td>2017-03-24</td>\n",
       "      <td>control</td>\n",
       "    </tr>\n",
       "    <tr>\n",
       "      <th>150287</th>\n",
       "      <td>3218748876</td>\n",
       "      <td>7</td>\n",
       "      <td>2017-03-26 07:44:00</td>\n",
       "      <td>f</td>\n",
       "      <td>2017-03-24</td>\n",
       "      <td>control</td>\n",
       "    </tr>\n",
       "    <tr>\n",
       "      <th>150288</th>\n",
       "      <td>3218748876</td>\n",
       "      <td>7</td>\n",
       "      <td>2017-03-26 09:12:00</td>\n",
       "      <td>f</td>\n",
       "      <td>2017-03-24</td>\n",
       "      <td>control</td>\n",
       "    </tr>\n",
       "    <tr>\n",
       "      <th>150289</th>\n",
       "      <td>3218748876</td>\n",
       "      <td>7</td>\n",
       "      <td>2017-03-26 09:12:00</td>\n",
       "      <td>f</td>\n",
       "      <td>2017-03-24</td>\n",
       "      <td>control</td>\n",
       "    </tr>\n",
       "  </tbody>\n",
       "</table>\n",
       "</div>"
      ],
      "text/plain": [
       "         sender_id  platform_id          time_stamp gender   reg_date    group\n",
       "150270  3218748876            7 2017-03-26 08:34:00      f 2017-03-24  control\n",
       "150271  3218748876            7 2017-03-26 08:33:00      f 2017-03-24  control\n",
       "150272  3218748876            7 2017-03-26 08:35:00      f 2017-03-24  control\n",
       "150273  3218748876            7 2017-03-26 08:21:00      f 2017-03-24  control\n",
       "150274  3218748876            7 2017-03-26 08:21:00      f 2017-03-24  control\n",
       "150275  3218748876            7 2017-03-26 08:21:00      f 2017-03-24  control\n",
       "150276  3218748876            7 2017-03-26 08:41:00      f 2017-03-24  control\n",
       "150277  3218748876            7 2017-03-26 08:38:00      f 2017-03-24  control\n",
       "150278  3218748876            7 2017-03-26 08:38:00      f 2017-03-24  control\n",
       "150279  3218748876            7 2017-03-26 08:44:00      f 2017-03-24  control\n",
       "150280  3218748876            7 2017-03-26 08:36:00      f 2017-03-24  control\n",
       "150281  3218748876            7 2017-03-26 08:38:00      f 2017-03-24  control\n",
       "150282  3218748876            7 2017-03-26 07:47:00      f 2017-03-24  control\n",
       "150283  3218748876            7 2017-03-26 08:33:00      f 2017-03-24  control\n",
       "150284  3218748876            7 2017-03-26 08:36:00      f 2017-03-24  control\n",
       "150285  3218748876            7 2017-03-26 08:36:00      f 2017-03-24  control\n",
       "150286  3218748876            7 2017-03-26 08:39:00      f 2017-03-24  control\n",
       "150287  3218748876            7 2017-03-26 07:44:00      f 2017-03-24  control\n",
       "150288  3218748876            7 2017-03-26 09:12:00      f 2017-03-24  control\n",
       "150289  3218748876            7 2017-03-26 09:12:00      f 2017-03-24  control"
      ]
     },
     "execution_count": 227,
     "metadata": {},
     "output_type": "execute_result"
    }
   ],
   "source": [
    "import numpy as np\n",
    "test_data['group'] = np.where(test_data['sender_id'] % 2 == 0, 'control', 'test')\n",
    "test_data.head(20)\n"
   ]
  },
  {
   "cell_type": "code",
   "execution_count": 228,
   "metadata": {},
   "outputs": [
    {
     "data": {
      "text/plain": [
       "(13361, 6)"
      ]
     },
     "execution_count": 228,
     "metadata": {},
     "output_type": "execute_result"
    }
   ],
   "source": [
    "control_group = test_data[test_data['group'] == \"control\"]\n",
    "control_group.shape"
   ]
  },
  {
   "cell_type": "code",
   "execution_count": 229,
   "metadata": {},
   "outputs": [
    {
     "data": {
      "text/plain": [
       "(11773, 6)"
      ]
     },
     "execution_count": 229,
     "metadata": {},
     "output_type": "execute_result"
    }
   ],
   "source": [
    "test_group = test_data[test_data['group'] == \"test\"]\n",
    "test_group.shape"
   ]
  },
  {
   "cell_type": "markdown",
   "metadata": {},
   "source": [
    "Групування по юзеру кількості лайків "
   ]
  },
  {
   "cell_type": "code",
   "execution_count": 230,
   "metadata": {},
   "outputs": [
    {
     "data": {
      "text/html": [
       "<div>\n",
       "<style scoped>\n",
       "    .dataframe tbody tr th:only-of-type {\n",
       "        vertical-align: middle;\n",
       "    }\n",
       "\n",
       "    .dataframe tbody tr th {\n",
       "        vertical-align: top;\n",
       "    }\n",
       "\n",
       "    .dataframe thead th {\n",
       "        text-align: right;\n",
       "    }\n",
       "</style>\n",
       "<table border=\"1\" class=\"dataframe\">\n",
       "  <thead>\n",
       "    <tr style=\"text-align: right;\">\n",
       "      <th></th>\n",
       "      <th>sender_id</th>\n",
       "      <th>count</th>\n",
       "      <th>group</th>\n",
       "    </tr>\n",
       "  </thead>\n",
       "  <tbody>\n",
       "    <tr>\n",
       "      <th>0</th>\n",
       "      <td>3218919594</td>\n",
       "      <td>518</td>\n",
       "      <td>control</td>\n",
       "    </tr>\n",
       "    <tr>\n",
       "      <th>1</th>\n",
       "      <td>3218773214</td>\n",
       "      <td>324</td>\n",
       "      <td>control</td>\n",
       "    </tr>\n",
       "    <tr>\n",
       "      <th>2</th>\n",
       "      <td>3218829938</td>\n",
       "      <td>321</td>\n",
       "      <td>control</td>\n",
       "    </tr>\n",
       "    <tr>\n",
       "      <th>3</th>\n",
       "      <td>3219082020</td>\n",
       "      <td>320</td>\n",
       "      <td>control</td>\n",
       "    </tr>\n",
       "    <tr>\n",
       "      <th>4</th>\n",
       "      <td>3219009054</td>\n",
       "      <td>273</td>\n",
       "      <td>control</td>\n",
       "    </tr>\n",
       "    <tr>\n",
       "      <th>5</th>\n",
       "      <td>3219152448</td>\n",
       "      <td>197</td>\n",
       "      <td>control</td>\n",
       "    </tr>\n",
       "    <tr>\n",
       "      <th>6</th>\n",
       "      <td>3218848492</td>\n",
       "      <td>132</td>\n",
       "      <td>control</td>\n",
       "    </tr>\n",
       "    <tr>\n",
       "      <th>7</th>\n",
       "      <td>3219162790</td>\n",
       "      <td>106</td>\n",
       "      <td>control</td>\n",
       "    </tr>\n",
       "    <tr>\n",
       "      <th>8</th>\n",
       "      <td>3218865596</td>\n",
       "      <td>98</td>\n",
       "      <td>control</td>\n",
       "    </tr>\n",
       "    <tr>\n",
       "      <th>9</th>\n",
       "      <td>3218882852</td>\n",
       "      <td>91</td>\n",
       "      <td>control</td>\n",
       "    </tr>\n",
       "    <tr>\n",
       "      <th>10</th>\n",
       "      <td>3218748876</td>\n",
       "      <td>90</td>\n",
       "      <td>control</td>\n",
       "    </tr>\n",
       "    <tr>\n",
       "      <th>11</th>\n",
       "      <td>3218864460</td>\n",
       "      <td>88</td>\n",
       "      <td>control</td>\n",
       "    </tr>\n",
       "    <tr>\n",
       "      <th>12</th>\n",
       "      <td>3218882578</td>\n",
       "      <td>88</td>\n",
       "      <td>control</td>\n",
       "    </tr>\n",
       "    <tr>\n",
       "      <th>13</th>\n",
       "      <td>3218919158</td>\n",
       "      <td>82</td>\n",
       "      <td>control</td>\n",
       "    </tr>\n",
       "    <tr>\n",
       "      <th>14</th>\n",
       "      <td>3219123502</td>\n",
       "      <td>79</td>\n",
       "      <td>control</td>\n",
       "    </tr>\n",
       "    <tr>\n",
       "      <th>15</th>\n",
       "      <td>3219169394</td>\n",
       "      <td>79</td>\n",
       "      <td>control</td>\n",
       "    </tr>\n",
       "    <tr>\n",
       "      <th>16</th>\n",
       "      <td>3218894718</td>\n",
       "      <td>74</td>\n",
       "      <td>control</td>\n",
       "    </tr>\n",
       "    <tr>\n",
       "      <th>17</th>\n",
       "      <td>3219091420</td>\n",
       "      <td>67</td>\n",
       "      <td>control</td>\n",
       "    </tr>\n",
       "    <tr>\n",
       "      <th>18</th>\n",
       "      <td>3219024718</td>\n",
       "      <td>66</td>\n",
       "      <td>control</td>\n",
       "    </tr>\n",
       "    <tr>\n",
       "      <th>19</th>\n",
       "      <td>3219296168</td>\n",
       "      <td>65</td>\n",
       "      <td>control</td>\n",
       "    </tr>\n",
       "  </tbody>\n",
       "</table>\n",
       "</div>"
      ],
      "text/plain": [
       "     sender_id  count    group\n",
       "0   3218919594    518  control\n",
       "1   3218773214    324  control\n",
       "2   3218829938    321  control\n",
       "3   3219082020    320  control\n",
       "4   3219009054    273  control\n",
       "5   3219152448    197  control\n",
       "6   3218848492    132  control\n",
       "7   3219162790    106  control\n",
       "8   3218865596     98  control\n",
       "9   3218882852     91  control\n",
       "10  3218748876     90  control\n",
       "11  3218864460     88  control\n",
       "12  3218882578     88  control\n",
       "13  3218919158     82  control\n",
       "14  3219123502     79  control\n",
       "15  3219169394     79  control\n",
       "16  3218894718     74  control\n",
       "17  3219091420     67  control\n",
       "18  3219024718     66  control\n",
       "19  3219296168     65  control"
      ]
     },
     "execution_count": 230,
     "metadata": {},
     "output_type": "execute_result"
    }
   ],
   "source": [
    "control_sample = control_group['sender_id'].value_counts().reset_index()\n",
    "control_sample.columns = ['sender_id', 'count']\n",
    "control_sample['group'] = 'control'\n",
    "control_sample.head(20)"
   ]
  },
  {
   "cell_type": "code",
   "execution_count": 231,
   "metadata": {},
   "outputs": [
    {
     "data": {
      "text/html": [
       "<div>\n",
       "<style scoped>\n",
       "    .dataframe tbody tr th:only-of-type {\n",
       "        vertical-align: middle;\n",
       "    }\n",
       "\n",
       "    .dataframe tbody tr th {\n",
       "        vertical-align: top;\n",
       "    }\n",
       "\n",
       "    .dataframe thead th {\n",
       "        text-align: right;\n",
       "    }\n",
       "</style>\n",
       "<table border=\"1\" class=\"dataframe\">\n",
       "  <thead>\n",
       "    <tr style=\"text-align: right;\">\n",
       "      <th></th>\n",
       "      <th>sender_id</th>\n",
       "      <th>count</th>\n",
       "      <th>group</th>\n",
       "    </tr>\n",
       "  </thead>\n",
       "  <tbody>\n",
       "    <tr>\n",
       "      <th>0</th>\n",
       "      <td>3219015563</td>\n",
       "      <td>285</td>\n",
       "      <td>test</td>\n",
       "    </tr>\n",
       "    <tr>\n",
       "      <th>1</th>\n",
       "      <td>3218866775</td>\n",
       "      <td>281</td>\n",
       "      <td>test</td>\n",
       "    </tr>\n",
       "    <tr>\n",
       "      <th>2</th>\n",
       "      <td>3218780891</td>\n",
       "      <td>149</td>\n",
       "      <td>test</td>\n",
       "    </tr>\n",
       "    <tr>\n",
       "      <th>3</th>\n",
       "      <td>3218874611</td>\n",
       "      <td>126</td>\n",
       "      <td>test</td>\n",
       "    </tr>\n",
       "    <tr>\n",
       "      <th>4</th>\n",
       "      <td>3219243265</td>\n",
       "      <td>106</td>\n",
       "      <td>test</td>\n",
       "    </tr>\n",
       "    <tr>\n",
       "      <th>5</th>\n",
       "      <td>3219308377</td>\n",
       "      <td>103</td>\n",
       "      <td>test</td>\n",
       "    </tr>\n",
       "    <tr>\n",
       "      <th>6</th>\n",
       "      <td>3218947243</td>\n",
       "      <td>99</td>\n",
       "      <td>test</td>\n",
       "    </tr>\n",
       "    <tr>\n",
       "      <th>7</th>\n",
       "      <td>3218997399</td>\n",
       "      <td>99</td>\n",
       "      <td>test</td>\n",
       "    </tr>\n",
       "    <tr>\n",
       "      <th>8</th>\n",
       "      <td>3219016295</td>\n",
       "      <td>93</td>\n",
       "      <td>test</td>\n",
       "    </tr>\n",
       "    <tr>\n",
       "      <th>9</th>\n",
       "      <td>3218940771</td>\n",
       "      <td>85</td>\n",
       "      <td>test</td>\n",
       "    </tr>\n",
       "    <tr>\n",
       "      <th>10</th>\n",
       "      <td>3219236581</td>\n",
       "      <td>81</td>\n",
       "      <td>test</td>\n",
       "    </tr>\n",
       "    <tr>\n",
       "      <th>11</th>\n",
       "      <td>3218888517</td>\n",
       "      <td>77</td>\n",
       "      <td>test</td>\n",
       "    </tr>\n",
       "    <tr>\n",
       "      <th>12</th>\n",
       "      <td>3219072599</td>\n",
       "      <td>76</td>\n",
       "      <td>test</td>\n",
       "    </tr>\n",
       "    <tr>\n",
       "      <th>13</th>\n",
       "      <td>3218883931</td>\n",
       "      <td>76</td>\n",
       "      <td>test</td>\n",
       "    </tr>\n",
       "    <tr>\n",
       "      <th>14</th>\n",
       "      <td>3218928369</td>\n",
       "      <td>75</td>\n",
       "      <td>test</td>\n",
       "    </tr>\n",
       "    <tr>\n",
       "      <th>15</th>\n",
       "      <td>3219026567</td>\n",
       "      <td>74</td>\n",
       "      <td>test</td>\n",
       "    </tr>\n",
       "    <tr>\n",
       "      <th>16</th>\n",
       "      <td>3218879147</td>\n",
       "      <td>72</td>\n",
       "      <td>test</td>\n",
       "    </tr>\n",
       "    <tr>\n",
       "      <th>17</th>\n",
       "      <td>3219126071</td>\n",
       "      <td>71</td>\n",
       "      <td>test</td>\n",
       "    </tr>\n",
       "    <tr>\n",
       "      <th>18</th>\n",
       "      <td>3219056379</td>\n",
       "      <td>70</td>\n",
       "      <td>test</td>\n",
       "    </tr>\n",
       "    <tr>\n",
       "      <th>19</th>\n",
       "      <td>3218938645</td>\n",
       "      <td>69</td>\n",
       "      <td>test</td>\n",
       "    </tr>\n",
       "  </tbody>\n",
       "</table>\n",
       "</div>"
      ],
      "text/plain": [
       "     sender_id  count group\n",
       "0   3219015563    285  test\n",
       "1   3218866775    281  test\n",
       "2   3218780891    149  test\n",
       "3   3218874611    126  test\n",
       "4   3219243265    106  test\n",
       "5   3219308377    103  test\n",
       "6   3218947243     99  test\n",
       "7   3218997399     99  test\n",
       "8   3219016295     93  test\n",
       "9   3218940771     85  test\n",
       "10  3219236581     81  test\n",
       "11  3218888517     77  test\n",
       "12  3219072599     76  test\n",
       "13  3218883931     76  test\n",
       "14  3218928369     75  test\n",
       "15  3219026567     74  test\n",
       "16  3218879147     72  test\n",
       "17  3219126071     71  test\n",
       "18  3219056379     70  test\n",
       "19  3218938645     69  test"
      ]
     },
     "execution_count": 231,
     "metadata": {},
     "output_type": "execute_result"
    }
   ],
   "source": [
    "test_sample = test_group['sender_id'].value_counts().reset_index()\n",
    "test_sample.columns = ['sender_id', 'count']\n",
    "test_sample['group'] = 'test'\n",
    "test_sample.head(20)"
   ]
  },
  {
   "cell_type": "code",
   "execution_count": 232,
   "metadata": {},
   "outputs": [
    {
     "name": "stderr",
     "output_type": "stream",
     "text": [
      "C:\\Users\\asus\\AppData\\Local\\Temp\\ipykernel_13744\\2631630236.py:8: FutureWarning: \n",
      "\n",
      "Passing `palette` without assigning `hue` is deprecated and will be removed in v0.14.0. Assign the `x` variable to `hue` and set `legend=False` for the same effect.\n",
      "\n",
      "  sns.boxplot(x='group', y='count', data=combined_data, palette=[\"skyblue\", \"lightgreen\"])\n"
     ]
    },
    {
     "data": {
      "image/png": "[encoded data removed]",
      "text/plain": [
       "<Figure size 800x600 with 1 Axes>"
      ]
     },
     "metadata": {},
     "output_type": "display_data"
    }
   ],
   "source": [
    "import matplotlib.pyplot as plt\n",
    "import seaborn as sns\n",
    "sns.set(style=\"whitegrid\")\n",
    "\n",
    "combined_data = pd.concat([control_sample, test_sample])\n",
    "\n",
    "plt.figure(figsize=(8, 6))\n",
    "sns.boxplot(x='group', y='count', data=combined_data, palette=[\"skyblue\", \"lightgreen\"])\n",
    "plt.title('Розподіл кількості лайків на користувача по группаx')\n",
    "plt.xlabel('Группа')\n",
    "plt.ylabel('Кіл-ть лайків на користувача')\n",
    "plt.show()"
   ]
  },
  {
   "cell_type": "code",
   "execution_count": 233,
   "metadata": {},
   "outputs": [
    {
     "data": {
      "text/plain": [
       "TtestResult(statistic=0.5900047250219634, pvalue=0.555262867815666, df=1768.221364568477)"
      ]
     },
     "execution_count": 233,
     "metadata": {},
     "output_type": "execute_result"
    }
   ],
   "source": [
    "import scipy.stats as stats\n",
    "stats.ttest_ind(a=control_sample['count'],\n",
    "                b=test_sample['count'],\n",
    "                equal_var=False)"
   ]
  },
  {
   "cell_type": "code",
   "execution_count": 234,
   "metadata": {},
   "outputs": [
    {
     "data": {
      "text/html": [
       "<div>\n",
       "<style scoped>\n",
       "    .dataframe tbody tr th:only-of-type {\n",
       "        vertical-align: middle;\n",
       "    }\n",
       "\n",
       "    .dataframe tbody tr th {\n",
       "        vertical-align: top;\n",
       "    }\n",
       "\n",
       "    .dataframe thead th {\n",
       "        text-align: right;\n",
       "    }\n",
       "</style>\n",
       "<table border=\"1\" class=\"dataframe\">\n",
       "  <thead>\n",
       "    <tr style=\"text-align: right;\">\n",
       "      <th></th>\n",
       "      <th>sender_id</th>\n",
       "      <th>count</th>\n",
       "      <th>group</th>\n",
       "    </tr>\n",
       "  </thead>\n",
       "  <tbody>\n",
       "    <tr>\n",
       "      <th>6</th>\n",
       "      <td>3218848492</td>\n",
       "      <td>132</td>\n",
       "      <td>control</td>\n",
       "    </tr>\n",
       "    <tr>\n",
       "      <th>7</th>\n",
       "      <td>3219162790</td>\n",
       "      <td>106</td>\n",
       "      <td>control</td>\n",
       "    </tr>\n",
       "    <tr>\n",
       "      <th>8</th>\n",
       "      <td>3218865596</td>\n",
       "      <td>98</td>\n",
       "      <td>control</td>\n",
       "    </tr>\n",
       "    <tr>\n",
       "      <th>9</th>\n",
       "      <td>3218882852</td>\n",
       "      <td>91</td>\n",
       "      <td>control</td>\n",
       "    </tr>\n",
       "    <tr>\n",
       "      <th>10</th>\n",
       "      <td>3218748876</td>\n",
       "      <td>90</td>\n",
       "      <td>control</td>\n",
       "    </tr>\n",
       "    <tr>\n",
       "      <th>...</th>\n",
       "      <td>...</td>\n",
       "      <td>...</td>\n",
       "      <td>...</td>\n",
       "    </tr>\n",
       "    <tr>\n",
       "      <th>975</th>\n",
       "      <td>3218920278</td>\n",
       "      <td>1</td>\n",
       "      <td>control</td>\n",
       "    </tr>\n",
       "    <tr>\n",
       "      <th>976</th>\n",
       "      <td>3218925862</td>\n",
       "      <td>1</td>\n",
       "      <td>control</td>\n",
       "    </tr>\n",
       "    <tr>\n",
       "      <th>977</th>\n",
       "      <td>3218926636</td>\n",
       "      <td>1</td>\n",
       "      <td>control</td>\n",
       "    </tr>\n",
       "    <tr>\n",
       "      <th>978</th>\n",
       "      <td>3218927950</td>\n",
       "      <td>1</td>\n",
       "      <td>control</td>\n",
       "    </tr>\n",
       "    <tr>\n",
       "      <th>979</th>\n",
       "      <td>3219278492</td>\n",
       "      <td>1</td>\n",
       "      <td>control</td>\n",
       "    </tr>\n",
       "  </tbody>\n",
       "</table>\n",
       "<p>974 rows × 3 columns</p>\n",
       "</div>"
      ],
      "text/plain": [
       "      sender_id  count    group\n",
       "6    3218848492    132  control\n",
       "7    3219162790    106  control\n",
       "8    3218865596     98  control\n",
       "9    3218882852     91  control\n",
       "10   3218748876     90  control\n",
       "..          ...    ...      ...\n",
       "975  3218920278      1  control\n",
       "976  3218925862      1  control\n",
       "977  3218926636      1  control\n",
       "978  3218927950      1  control\n",
       "979  3219278492      1  control\n",
       "\n",
       "[974 rows x 3 columns]"
      ]
     },
     "execution_count": 234,
     "metadata": {},
     "output_type": "execute_result"
    }
   ],
   "source": [
    "control_sample = control_sample[control_sample['count'] < 150]\n",
    "control_sample"
   ]
  },
  {
   "cell_type": "code",
   "execution_count": 235,
   "metadata": {},
   "outputs": [
    {
     "data": {
      "text/html": [
       "<div>\n",
       "<style scoped>\n",
       "    .dataframe tbody tr th:only-of-type {\n",
       "        vertical-align: middle;\n",
       "    }\n",
       "\n",
       "    .dataframe tbody tr th {\n",
       "        vertical-align: top;\n",
       "    }\n",
       "\n",
       "    .dataframe thead th {\n",
       "        text-align: right;\n",
       "    }\n",
       "</style>\n",
       "<table border=\"1\" class=\"dataframe\">\n",
       "  <thead>\n",
       "    <tr style=\"text-align: right;\">\n",
       "      <th></th>\n",
       "      <th>sender_id</th>\n",
       "      <th>count</th>\n",
       "      <th>group</th>\n",
       "    </tr>\n",
       "  </thead>\n",
       "  <tbody>\n",
       "    <tr>\n",
       "      <th>2</th>\n",
       "      <td>3218780891</td>\n",
       "      <td>149</td>\n",
       "      <td>test</td>\n",
       "    </tr>\n",
       "    <tr>\n",
       "      <th>3</th>\n",
       "      <td>3218874611</td>\n",
       "      <td>126</td>\n",
       "      <td>test</td>\n",
       "    </tr>\n",
       "    <tr>\n",
       "      <th>4</th>\n",
       "      <td>3219243265</td>\n",
       "      <td>106</td>\n",
       "      <td>test</td>\n",
       "    </tr>\n",
       "    <tr>\n",
       "      <th>5</th>\n",
       "      <td>3219308377</td>\n",
       "      <td>103</td>\n",
       "      <td>test</td>\n",
       "    </tr>\n",
       "    <tr>\n",
       "      <th>6</th>\n",
       "      <td>3218947243</td>\n",
       "      <td>99</td>\n",
       "      <td>test</td>\n",
       "    </tr>\n",
       "    <tr>\n",
       "      <th>...</th>\n",
       "      <td>...</td>\n",
       "      <td>...</td>\n",
       "      <td>...</td>\n",
       "    </tr>\n",
       "    <tr>\n",
       "      <th>905</th>\n",
       "      <td>3218781919</td>\n",
       "      <td>1</td>\n",
       "      <td>test</td>\n",
       "    </tr>\n",
       "    <tr>\n",
       "      <th>906</th>\n",
       "      <td>3219060525</td>\n",
       "      <td>1</td>\n",
       "      <td>test</td>\n",
       "    </tr>\n",
       "    <tr>\n",
       "      <th>907</th>\n",
       "      <td>3219138187</td>\n",
       "      <td>1</td>\n",
       "      <td>test</td>\n",
       "    </tr>\n",
       "    <tr>\n",
       "      <th>908</th>\n",
       "      <td>3219045873</td>\n",
       "      <td>1</td>\n",
       "      <td>test</td>\n",
       "    </tr>\n",
       "    <tr>\n",
       "      <th>909</th>\n",
       "      <td>3219279739</td>\n",
       "      <td>1</td>\n",
       "      <td>test</td>\n",
       "    </tr>\n",
       "  </tbody>\n",
       "</table>\n",
       "<p>908 rows × 3 columns</p>\n",
       "</div>"
      ],
      "text/plain": [
       "      sender_id  count group\n",
       "2    3218780891    149  test\n",
       "3    3218874611    126  test\n",
       "4    3219243265    106  test\n",
       "5    3219308377    103  test\n",
       "6    3218947243     99  test\n",
       "..          ...    ...   ...\n",
       "905  3218781919      1  test\n",
       "906  3219060525      1  test\n",
       "907  3219138187      1  test\n",
       "908  3219045873      1  test\n",
       "909  3219279739      1  test\n",
       "\n",
       "[908 rows x 3 columns]"
      ]
     },
     "execution_count": 235,
     "metadata": {},
     "output_type": "execute_result"
    }
   ],
   "source": [
    "test_sample = test_sample[test_sample['count'] < 250]\n",
    "test_sample"
   ]
  },
  {
   "cell_type": "markdown",
   "metadata": {},
   "source": [
    "Копіювання вибірок для використання їх у калькуляторі https://www.evanmiller.org/ab-testing/t-test.html#!15.466452/44.782857/3726;13.851955/26.280121/3607@94"
   ]
  },
  {
   "cell_type": "code",
   "execution_count": 236,
   "metadata": {},
   "outputs": [],
   "source": [
    "import pyperclip\n",
    "\n",
    "count_value = control_sample['count'].to_string(index=False)\n",
    "\n",
    "pyperclip.copy(count_value)"
   ]
  },
  {
   "cell_type": "code",
   "execution_count": 237,
   "metadata": {},
   "outputs": [],
   "source": [
    "count_value = test_sample['count'].to_string(index=False)\n",
    "\n",
    "pyperclip.copy(count_value)"
   ]
  },
  {
   "cell_type": "markdown",
   "metadata": {},
   "source": [
    "Результати 2 sample t test:"
   ]
  },
  {
   "cell_type": "code",
   "execution_count": 238,
   "metadata": {},
   "outputs": [
    {
     "data": {
      "text/plain": [
       "TtestResult(statistic=-0.8497946293236108, pvalue=0.3955509185131688, df=1822.091955349902)"
      ]
     },
     "execution_count": 238,
     "metadata": {},
     "output_type": "execute_result"
    }
   ],
   "source": [
    "import scipy.stats as stats\n",
    "stats.ttest_ind(a=control_sample['count'],\n",
    "                b=test_sample['count'],\n",
    "                equal_var=False)"
   ]
  },
  {
   "cell_type": "code",
   "execution_count": 239,
   "metadata": {},
   "outputs": [
    {
     "data": {
      "text/html": [
       "<div>\n",
       "<style scoped>\n",
       "    .dataframe tbody tr th:only-of-type {\n",
       "        vertical-align: middle;\n",
       "    }\n",
       "\n",
       "    .dataframe tbody tr th {\n",
       "        vertical-align: top;\n",
       "    }\n",
       "\n",
       "    .dataframe thead th {\n",
       "        text-align: right;\n",
       "    }\n",
       "</style>\n",
       "<table border=\"1\" class=\"dataframe\">\n",
       "  <thead>\n",
       "    <tr style=\"text-align: right;\">\n",
       "      <th></th>\n",
       "      <th>group</th>\n",
       "      <th>sender_id</th>\n",
       "    </tr>\n",
       "  </thead>\n",
       "  <tbody>\n",
       "    <tr>\n",
       "      <th>0</th>\n",
       "      <td>control</td>\n",
       "      <td>13361</td>\n",
       "    </tr>\n",
       "    <tr>\n",
       "      <th>1</th>\n",
       "      <td>test</td>\n",
       "      <td>11773</td>\n",
       "    </tr>\n",
       "  </tbody>\n",
       "</table>\n",
       "</div>"
      ],
      "text/plain": [
       "     group  sender_id\n",
       "0  control      13361\n",
       "1     test      11773"
      ]
     },
     "execution_count": 239,
     "metadata": {},
     "output_type": "execute_result"
    }
   ],
   "source": [
    "data_group = test_data.groupby(['group']).agg({'sender_id' : 'count'}).reset_index()\n",
    "data_group"
   ]
  },
  {
   "cell_type": "code",
   "execution_count": 240,
   "metadata": {},
   "outputs": [
    {
     "data": {
      "text/html": [
       "<div>\n",
       "<style scoped>\n",
       "    .dataframe tbody tr th:only-of-type {\n",
       "        vertical-align: middle;\n",
       "    }\n",
       "\n",
       "    .dataframe tbody tr th {\n",
       "        vertical-align: top;\n",
       "    }\n",
       "\n",
       "    .dataframe thead th {\n",
       "        text-align: right;\n",
       "    }\n",
       "</style>\n",
       "<table border=\"1\" class=\"dataframe\">\n",
       "  <thead>\n",
       "    <tr style=\"text-align: right;\">\n",
       "      <th></th>\n",
       "      <th>group</th>\n",
       "      <th>sender_id</th>\n",
       "    </tr>\n",
       "  </thead>\n",
       "  <tbody>\n",
       "    <tr>\n",
       "      <th>0</th>\n",
       "      <td>control</td>\n",
       "      <td>980</td>\n",
       "    </tr>\n",
       "    <tr>\n",
       "      <th>1</th>\n",
       "      <td>test</td>\n",
       "      <td>910</td>\n",
       "    </tr>\n",
       "  </tbody>\n",
       "</table>\n",
       "</div>"
      ],
      "text/plain": [
       "     group  sender_id\n",
       "0  control        980\n",
       "1     test        910"
      ]
     },
     "execution_count": 240,
     "metadata": {},
     "output_type": "execute_result"
    }
   ],
   "source": [
    "data_group = test_data.groupby(['group']).agg({'sender_id' : 'nunique'}).reset_index()\n",
    "data_group"
   ]
  },
  {
   "cell_type": "markdown",
   "metadata": {},
   "source": [
    "ALTERNATIVE VERSION"
   ]
  },
  {
   "cell_type": "markdown",
   "metadata": {},
   "source": [
    "Test for Male users:"
   ]
  },
  {
   "cell_type": "code",
   "execution_count": 241,
   "metadata": {},
   "outputs": [],
   "source": [
    "male_control_group = test_data[(test_data['group'] == \"control\") & (test_data['gender'] == 'm')]\n",
    "male_control_sample = male_control_group['sender_id'].value_counts().reset_index()\n",
    "male_control_sample.columns = ['sender_id', 'count']"
   ]
  },
  {
   "cell_type": "code",
   "execution_count": 242,
   "metadata": {},
   "outputs": [],
   "source": [
    "male_test_group = test_data[(test_data['group'] == \"test\") & (test_data['gender'] == 'm')]\n",
    "male_test_sample = male_test_group['sender_id'].value_counts().reset_index()\n",
    "male_test_sample.columns = ['sender_id', 'count']"
   ]
  },
  {
   "cell_type": "code",
   "execution_count": 243,
   "metadata": {},
   "outputs": [
    {
     "name": "stdout",
     "output_type": "stream",
     "text": [
      "mcg likes/users: 10635/685\n",
      "mtg likes/users: 8913/634\n"
     ]
    }
   ],
   "source": [
    "print('mcg likes/users: '+str(male_control_group.shape[0])+'/'+str(male_control_sample.shape[0]))\n",
    "print('mtg likes/users: '+str(male_test_group.shape[0])+'/'+str(male_test_sample.shape[0]))"
   ]
  },
  {
   "cell_type": "code",
   "execution_count": 244,
   "metadata": {},
   "outputs": [
    {
     "data": {
      "text/plain": [
       "TtestResult(statistic=0.9420925383266348, pvalue=0.34634360184880253, df=1147.2218381928578)"
      ]
     },
     "execution_count": 244,
     "metadata": {},
     "output_type": "execute_result"
    }
   ],
   "source": [
    "stats.ttest_ind(a=male_control_sample['count'],\n",
    "                b=male_test_sample['count'],\n",
    "                equal_var=False)"
   ]
  },
  {
   "cell_type": "markdown",
   "metadata": {},
   "source": [
    "for male users control is not SIGNIFICANTLY better"
   ]
  },
  {
   "cell_type": "code",
   "execution_count": 245,
   "metadata": {},
   "outputs": [],
   "source": [
    "female_control_group = test_data[(test_data['group'] == \"control\") & (test_data['gender'] == 'f')]\n",
    "female_control_sample = female_control_group['sender_id'].value_counts().reset_index()\n",
    "female_control_sample.columns = ['sender_id', 'count']"
   ]
  },
  {
   "cell_type": "code",
   "execution_count": 246,
   "metadata": {},
   "outputs": [],
   "source": [
    "female_test_group = test_data[(test_data['group'] == \"test\") & (test_data['gender'] == 'f')]\n",
    "female_test_sample = female_test_group['sender_id'].value_counts().reset_index()\n",
    "female_test_sample.columns = ['sender_id', 'count']"
   ]
  },
  {
   "cell_type": "code",
   "execution_count": 247,
   "metadata": {},
   "outputs": [
    {
     "name": "stdout",
     "output_type": "stream",
     "text": [
      "fcg likes/users: 2726/295\n",
      "ftg likes/users: 2860/276\n"
     ]
    }
   ],
   "source": [
    "print('fcg likes/users: '+str(female_control_group.shape[0])+'/'+str(female_control_sample.shape[0]))\n",
    "print('ftg likes/users: '+str(female_test_group.shape[0])+'/'+str(female_test_sample.shape[0]))"
   ]
  },
  {
   "cell_type": "code",
   "execution_count": 248,
   "metadata": {},
   "outputs": [
    {
     "data": {
      "text/plain": [
       "TtestResult(statistic=-0.7602814636236591, pvalue=0.44748142261948665, df=453.51514514747447)"
      ]
     },
     "execution_count": 248,
     "metadata": {},
     "output_type": "execute_result"
    }
   ],
   "source": [
    "stats.ttest_ind(a=female_control_sample['count'],\n",
    "                b=female_test_sample['count'],\n",
    "                equal_var=False)"
   ]
  },
  {
   "cell_type": "markdown",
   "metadata": {},
   "source": [
    "for female users test no diff"
   ]
  },
  {
   "cell_type": "markdown",
   "metadata": {},
   "source": [
    "test for desktop users"
   ]
  },
  {
   "cell_type": "code",
   "execution_count": 249,
   "metadata": {},
   "outputs": [],
   "source": [
    "desktop_control_group = test_data[(test_data['group'] == \"control\") & (test_data['platform_id'] == 6)]\n",
    "desktop_control_sample = desktop_control_group['sender_id'].value_counts().reset_index()\n",
    "desktop_control_sample.columns = ['sender_id', 'count']"
   ]
  },
  {
   "cell_type": "code",
   "execution_count": 250,
   "metadata": {},
   "outputs": [],
   "source": [
    "desktop_test_group = test_data[(test_data['group'] == \"test\") & (test_data['platform_id'] == 6)]\n",
    "desktop_test_sample = desktop_test_group['sender_id'].value_counts().reset_index()\n",
    "desktop_test_sample.columns = ['sender_id', 'count']"
   ]
  },
  {
   "cell_type": "code",
   "execution_count": 251,
   "metadata": {},
   "outputs": [
    {
     "name": "stdout",
     "output_type": "stream",
     "text": [
      "dcg likes/users: 6450/439\n",
      "dtg likes/users: 6512/432\n"
     ]
    }
   ],
   "source": [
    "print('dcg likes/users: '+str(desktop_control_group.shape[0])+'/'+str(desktop_control_sample.shape[0]))\n",
    "print('dtg likes/users: '+str(desktop_test_group.shape[0])+'/'+str(desktop_test_sample.shape[0]))"
   ]
  },
  {
   "cell_type": "markdown",
   "metadata": {},
   "source": [
    "no significant result"
   ]
  },
  {
   "cell_type": "code",
   "execution_count": 252,
   "metadata": {},
   "outputs": [
    {
     "data": {
      "text/plain": [
       "TtestResult(statistic=-0.24603499224050504, pvalue=0.8057133040858078, df=868.107453838852)"
      ]
     },
     "execution_count": 252,
     "metadata": {},
     "output_type": "execute_result"
    }
   ],
   "source": [
    "stats.ttest_ind(a=desktop_control_sample['count'],\n",
    "                b=desktop_test_sample['count'],\n",
    "                equal_var=False)"
   ]
  },
  {
   "cell_type": "markdown",
   "metadata": {},
   "source": [
    "mobile test"
   ]
  },
  {
   "cell_type": "code",
   "execution_count": 253,
   "metadata": {},
   "outputs": [],
   "source": [
    "mobile_control_group = test_data[(test_data['group'] == \"control\") & (test_data['platform_id'] == 7)]\n",
    "mobile_control_sample = mobile_control_group['sender_id'].value_counts().reset_index()\n",
    "mobile_control_sample.columns = ['sender_id', 'count']"
   ]
  },
  {
   "cell_type": "code",
   "execution_count": 254,
   "metadata": {},
   "outputs": [],
   "source": [
    "mobile_test_group = test_data[(test_data['group'] == \"test\") & (test_data['platform_id'] == 7)]\n",
    "mobile_test_sample = mobile_test_group['sender_id'].value_counts().reset_index()\n",
    "mobile_test_sample.columns = ['sender_id', 'count']"
   ]
  },
  {
   "cell_type": "code",
   "execution_count": 255,
   "metadata": {},
   "outputs": [
    {
     "name": "stdout",
     "output_type": "stream",
     "text": [
      "mcg likes/users: 6911/545\n",
      "mtg likes/users: 5261/484\n"
     ]
    }
   ],
   "source": [
    "print('mcg likes/users: '+str(mobile_control_group.shape[0])+'/'+str(mobile_control_sample.shape[0]))\n",
    "print('mtg likes/users: '+str(mobile_test_group.shape[0])+'/'+str(mobile_test_sample.shape[0]))"
   ]
  },
  {
   "cell_type": "code",
   "execution_count": 256,
   "metadata": {},
   "outputs": [
    {
     "data": {
      "text/plain": [
       "TtestResult(statistic=1.0647766587254834, pvalue=0.28727434608631747, df=864.3976051846576)"
      ]
     },
     "execution_count": 256,
     "metadata": {},
     "output_type": "execute_result"
    }
   ],
   "source": [
    "stats.ttest_ind(a=mobile_control_sample['count'],\n",
    "                b=mobile_test_sample['count'],\n",
    "                equal_var=False)"
   ]
  },
  {
   "cell_type": "markdown",
   "metadata": {},
   "source": [
    "no significant results"
   ]
  },
  {
   "cell_type": "code",
   "execution_count": 257,
   "metadata": {},
   "outputs": [
    {
     "name": "stderr",
     "output_type": "stream",
     "text": [
      "C:\\Users\\asus\\AppData\\Local\\Temp\\ipykernel_13744\\1324372877.py:6: FutureWarning: \n",
      "\n",
      "Passing `palette` without assigning `hue` is deprecated and will be removed in v0.14.0. Assign the `x` variable to `hue` and set `legend=False` for the same effect.\n",
      "\n",
      "  sns.boxplot(x='group', y='count', data=combined_data, palette=[\"skyblue\", \"lightgreen\"])\n"
     ]
    },
    {
     "data": {
      "image/png": "[encoded data removed]",
      "text/plain": [
       "<Figure size 800x600 with 1 Axes>"
      ]
     },
     "metadata": {},
     "output_type": "display_data"
    }
   ],
   "source": [
    "sns.set(style=\"whitegrid\")\n",
    "\n",
    "combined_data = pd.concat([control_sample, test_sample])\n",
    "\n",
    "plt.figure(figsize=(8, 6))\n",
    "sns.boxplot(x='group', y='count', data=combined_data, palette=[\"skyblue\", \"lightgreen\"])\n",
    "plt.title('Розподіл кількості лайків на користувача по группаx')\n",
    "plt.xlabel('Группа')\n",
    "plt.ylabel('Кіл-ть лайків на користувача')\n",
    "plt.show()"
   ]
  },
  {
   "cell_type": "code",
   "execution_count": 258,
   "metadata": {},
   "outputs": [
    {
     "name": "stderr",
     "output_type": "stream",
     "text": [
      "C:\\Users\\asus\\AppData\\Local\\Temp\\ipykernel_13744\\1959283953.py:8: FutureWarning: \n",
      "\n",
      "Passing `palette` without assigning `hue` is deprecated and will be removed in v0.14.0. Assign the `x` variable to `hue` and set `legend=False` for the same effect.\n",
      "\n",
      "  sns.barplot(x=['p-value', 'Alpha1 (0.05)', 'Alpha2 (0.1)'], y=[p_value, alpha1, alpha2], palette=[\"orange\", \"green\", \"red\"])\n"
     ]
    },
    {
     "data": {
      "image/png": "[encoded data removed]",
      "text/plain": [
       "<Figure size 600x600 with 1 Axes>"
      ]
     },
     "metadata": {},
     "output_type": "display_data"
    }
   ],
   "source": [
    "t_stat, p_value = stats.ttest_ind(a=control_sample['count'],\n",
    "                                  b=test_sample['count'],\n",
    "                                  equal_var=False)\n",
    "\n",
    "alpha1 = 0.05\n",
    "alpha2 = 0.1\n",
    "plt.figure(figsize=(6, 6))\n",
    "sns.barplot(x=['p-value', 'Alpha1 (0.05)', 'Alpha2 (0.1)'], y=[p_value, alpha1, alpha2], palette=[\"orange\", \"green\", \"red\"])\n",
    "plt.title('Порівняння p-value та рівнів значущості')\n",
    "plt.ylabel('Значення')\n",
    "plt.ylim(0, max(p_value, alpha1, alpha2) + 0.05)\n",
    "\n",
    "for index, value in enumerate([p_value, alpha1, alpha2]):\n",
    "    plt.text(index, value + 0.005, f\"{value:.4f}\", ha='center')\n",
    "\n",
    "plt.show()"
   ]
  },
  {
   "cell_type": "code",
   "execution_count": 259,
   "metadata": {},
   "outputs": [
    {
     "data": {
      "image/png": "[encoded data removed]",
      "text/plain": [
       "<Figure size 1400x600 with 2 Axes>"
      ]
     },
     "metadata": {},
     "output_type": "display_data"
    }
   ],
   "source": [
    "plt.figure(figsize=(14, 6))\n",
    "\n",
    "plt.subplot(1, 2, 1)\n",
    "sns.histplot(control_sample['count'], bins=30, color=\"skyblue\", kde=True)\n",
    "plt.title('Гістограма лайків на користувача (Control Group)')\n",
    "plt.xlabel('Кіл-ть лайків на користувача')\n",
    "plt.ylabel('Кіл-ть користувачів')\n",
    "\n",
    "plt.subplot(1, 2, 2)\n",
    "sns.histplot(test_sample['count'], bins=30, color=\"lightgreen\", kde=True)\n",
    "plt.title('Гістограма лайків на користувача (Test Group)')\n",
    "plt.xlabel('Кіл-ть лайків на користувача')\n",
    "plt.ylabel('Кіл-ть користувачів')\n",
    "\n",
    "plt.tight_layout()\n",
    "plt.show()\n"
   ]
  },
  {
   "cell_type": "code",
   "execution_count": 260,
   "metadata": {},
   "outputs": [
    {
     "name": "stderr",
     "output_type": "stream",
     "text": [
      "C:\\Users\\asus\\AppData\\Local\\Temp\\ipykernel_13744\\3131538552.py:7: FutureWarning: \n",
      "\n",
      "Passing `palette` without assigning `hue` is deprecated and will be removed in v0.14.0. Assign the `x` variable to `hue` and set `legend=False` for the same effect.\n",
      "\n",
      "  ax = sns.barplot(x='group', y='mean_likes', data=mean_counts, palette=\"Set2\")\n"
     ]
    },
    {
     "data": {
      "image/png": "[encoded data removed]",
      "text/plain": [
       "<Figure size 1000x600 with 1 Axes>"
      ]
     },
     "metadata": {},
     "output_type": "display_data"
    }
   ],
   "source": [
    "# Рассчитываем среднее количество лайков на пользователя для каждой группы\n",
    "mean_counts = combined_data.groupby('group')['count'].mean().reset_index()\n",
    "mean_counts.columns = ['group', 'mean_likes']\n",
    "\n",
    "# Построение столбчатой диаграммы\n",
    "plt.figure(figsize=(10, 6))\n",
    "ax = sns.barplot(x='group', y='mean_likes', data=mean_counts, palette=\"Set2\")\n",
    "plt.title('Bar Plot of Mean Likes per User in Control and Test Groups')\n",
    "plt.xlabel('Група')\n",
    "plt.ylabel('Середня кіл-ть лайків на користувача')\n",
    "\n",
    "# Добавление значений на столбцы\n",
    "for p in ax.patches:\n",
    "    ax.annotate(f'{p.get_height():.2f}', (p.get_x() + p.get_width() / 2., p.get_height()), \n",
    "                ha='center', va='center', xytext=(0, 5), textcoords='offset points')\n",
    "\n",
    "plt.grid(True)\n",
    "plt.show()\n"
   ]
  },
  {
   "cell_type": "code",
   "execution_count": 261,
   "metadata": {},
   "outputs": [
    {
     "name": "stderr",
     "output_type": "stream",
     "text": [
      "C:\\Users\\asus\\AppData\\Local\\Temp\\ipykernel_13744\\2425290019.py:2: FutureWarning: \n",
      "\n",
      "Passing `palette` without assigning `hue` is deprecated and will be removed in v0.14.0. Assign the `x` variable to `hue` and set `legend=False` for the same effect.\n",
      "\n",
      "  ax = sns.violinplot(x='group', y='count', data=combined_data, palette=\"Set2\", inner='quartile')\n"
     ]
    },
    {
     "data": {
      "image/png": "[encoded data removed]",
      "text/plain": [
       "<Figure size 1200x800 with 1 Axes>"
      ]
     },
     "metadata": {},
     "output_type": "display_data"
    }
   ],
   "source": [
    "plt.figure(figsize=(12, 8))\n",
    "ax = sns.violinplot(x='group', y='count', data=combined_data, palette=\"Set2\", inner='quartile')\n",
    "plt.title('Violin Plot of Likes per User in Control and Test Groups')\n",
    "plt.xlabel('Група')\n",
    "plt.ylabel('К-ть лайків на користувача')\n",
    "\n",
    "for i, group in enumerate(['control', 'test']):\n",
    "    group_data = combined_data[combined_data['group'] == group]\n",
    "    median = group_data['count'].median()\n",
    "    quartiles = group_data['count'].quantile([0.25, 0.75])\n",
    "    \n",
    "    plt.plot([i, i], [quartiles[0.25], quartiles[0.75]], color='red', linestyle='-', linewidth=2)\n",
    "    plt.text(i, quartiles[0.25] - 0.5, f'Q1: {quartiles[0.25]:.2f}', horizontalalignment='center', color='red')\n",
    "    plt.text(i, quartiles[0.75] + 0.5, f'Q3: {quartiles[0.75]:.2f}', horizontalalignment='center', color='red')\n",
    "\n",
    "plt.grid(True)\n",
    "plt.show()\n"
   ]
  },
  {
   "cell_type": "code",
   "execution_count": null,
   "metadata": {},
   "outputs": [],
   "source": []
  }
 ],
 "metadata": {
  "kernelspec": {
   "display_name": "Python 3",
   "language": "python",
   "name": "python3"
  },
  "language_info": {
   "codemirror_mode": {
    "name": "ipython",
    "version": 3
   },
   "file_extension": ".py",
   "mimetype": "text/x-python",
   "name": "python",
   "nbconvert_exporter": "python",
   "pygments_lexer": "ipython3",
   "version": "3.11.5"
  }
 },
 "nbformat": 4,
 "nbformat_minor": 2
}
