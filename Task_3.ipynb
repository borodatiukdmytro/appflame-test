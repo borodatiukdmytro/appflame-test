{
 "cells": [
  {
   "cell_type": "code",
   "execution_count": 63,
   "metadata": {},
   "outputs": [
    {
     "data": {
      "text/html": [
       "<div>\n",
       "<style scoped>\n",
       "    .dataframe tbody tr th:only-of-type {\n",
       "        vertical-align: middle;\n",
       "    }\n",
       "\n",
       "    .dataframe tbody tr th {\n",
       "        vertical-align: top;\n",
       "    }\n",
       "\n",
       "    .dataframe thead th {\n",
       "        text-align: right;\n",
       "    }\n",
       "</style>\n",
       "<table border=\"1\" class=\"dataframe\">\n",
       "  <thead>\n",
       "    <tr style=\"text-align: right;\">\n",
       "      <th></th>\n",
       "      <th>sender_id</th>\n",
       "      <th>platform_id</th>\n",
       "      <th>time_stamp</th>\n",
       "      <th>gender</th>\n",
       "      <th>reg_date</th>\n",
       "    </tr>\n",
       "  </thead>\n",
       "  <tbody>\n",
       "    <tr>\n",
       "      <th>0</th>\n",
       "      <td>3207526951</td>\n",
       "      <td>6</td>\n",
       "      <td>2017-03-16 13:35:00</td>\n",
       "      <td>m</td>\n",
       "      <td>2017-01-26</td>\n",
       "    </tr>\n",
       "    <tr>\n",
       "      <th>1</th>\n",
       "      <td>3207526951</td>\n",
       "      <td>6</td>\n",
       "      <td>2017-03-16 09:09:00</td>\n",
       "      <td>m</td>\n",
       "      <td>2017-01-26</td>\n",
       "    </tr>\n",
       "    <tr>\n",
       "      <th>2</th>\n",
       "      <td>3207526951</td>\n",
       "      <td>6</td>\n",
       "      <td>2017-03-16 09:09:00</td>\n",
       "      <td>m</td>\n",
       "      <td>2017-01-26</td>\n",
       "    </tr>\n",
       "    <tr>\n",
       "      <th>3</th>\n",
       "      <td>3207526951</td>\n",
       "      <td>6</td>\n",
       "      <td>2017-03-16 12:13:00</td>\n",
       "      <td>m</td>\n",
       "      <td>2017-01-26</td>\n",
       "    </tr>\n",
       "    <tr>\n",
       "      <th>4</th>\n",
       "      <td>3207526951</td>\n",
       "      <td>6</td>\n",
       "      <td>2017-03-15 14:01:00</td>\n",
       "      <td>m</td>\n",
       "      <td>2017-01-26</td>\n",
       "    </tr>\n",
       "  </tbody>\n",
       "</table>\n",
       "</div>"
      ],
      "text/plain": [
       "    sender_id  platform_id          time_stamp gender   reg_date\n",
       "0  3207526951            6 2017-03-16 13:35:00      m 2017-01-26\n",
       "1  3207526951            6 2017-03-16 09:09:00      m 2017-01-26\n",
       "2  3207526951            6 2017-03-16 09:09:00      m 2017-01-26\n",
       "3  3207526951            6 2017-03-16 12:13:00      m 2017-01-26\n",
       "4  3207526951            6 2017-03-15 14:01:00      m 2017-01-26"
      ]
     },
     "execution_count": 63,
     "metadata": {},
     "output_type": "execute_result"
    }
   ],
   "source": [
    "import pandas as pd\n",
    "data = pd.read_excel('Data_3.xlsx')\n",
    "data.head()"
   ]
  },
  {
   "cell_type": "code",
   "execution_count": 64,
   "metadata": {},
   "outputs": [
    {
     "name": "stdout",
     "output_type": "stream",
     "text": [
      "\n",
      " *_**_**_**_**_**_**_**_**_**_**_**_**_**_**_**_**_**_**_**_* \n",
      "\n",
      "Dataframe Makeup \n",
      "\n",
      "<class 'pandas.core.frame.DataFrame'>\n",
      "RangeIndex: 768439 entries, 0 to 768438\n",
      "Data columns (total 5 columns):\n",
      " #   Column       Non-Null Count   Dtype         \n",
      "---  ------       --------------   -----         \n",
      " 0   sender_id    768439 non-null  int64         \n",
      " 1   platform_id  768439 non-null  int64         \n",
      " 2   time_stamp   768439 non-null  datetime64[ns]\n",
      " 3   gender       768439 non-null  object        \n",
      " 4   reg_date     768439 non-null  datetime64[ns]\n",
      "dtypes: datetime64[ns](2), int64(2), object(1)\n",
      "memory usage: 29.3+ MB\n",
      "\n",
      " *_**_**_**_**_**_**_**_**_**_**_**_**_**_**_**_**_**_**_**_* \n",
      "\n",
      "Descriptive Statistics \n",
      "\n",
      "           sender_id  platform_id                     time_stamp  \\\n",
      "count  7.684390e+05    768439.00                         768439   \n",
      "mean   3.212627e+09         6.42  2017-03-19 07:19:35.681244672   \n",
      "min    3.201944e+09         6.00            2017-03-13 00:00:00   \n",
      "25%    3.208266e+09         6.00            2017-03-15 14:06:00   \n",
      "50%    3.214114e+09         6.00            2017-03-18 21:49:00   \n",
      "75%    3.216958e+09         7.00            2017-03-22 21:56:00   \n",
      "max    3.219311e+09         7.00            2017-03-27 00:00:00   \n",
      "std    5.060134e+06         0.49                            NaN   \n",
      "\n",
      "                            reg_date  \n",
      "count                         768439  \n",
      "mean   2017-02-20 13:51:57.079169792  \n",
      "min              2017-01-01 00:00:00  \n",
      "25%              2017-01-30 00:00:00  \n",
      "50%              2017-02-28 00:00:00  \n",
      "75%              2017-03-14 00:00:00  \n",
      "max              2017-03-26 00:00:00  \n",
      "std                              NaN  \n",
      "\n",
      " *_**_**_**_**_**_**_**_**_**_**_**_**_**_**_**_**_**_**_**_* \n",
      "\n",
      "Shape of dataframe: (768439, 5)\n",
      "\n",
      " *_**_**_**_**_**_**_**_**_**_**_**_**_**_**_**_**_**_**_**_* \n",
      "\n"
     ]
    }
   ],
   "source": [
    "def explore(x):\n",
    "    divider = \"*_*\"\n",
    "    print(\"\\n {} \\n\".format((divider*20))) #creates a dvider between each method output breaking at each end.\n",
    "    \n",
    "    print(\"Dataframe Makeup \\n\") #title for output.\n",
    "    \n",
    "    x.info() # Explains what the data and values the data is madeup from.\n",
    "    \n",
    "    print(\"\\n {} \\n\".format((divider*20))) #creates a dvider between each method output breaking at each end.\n",
    "    \n",
    "    print(\"Descriptive Statistics \\n\\n\", x.describe().round(2)) #Gives a statstical breakdown of the data.\n",
    "    \n",
    "    print(\"\\n {} \\n\".format((divider*20))) #creates a dvider between each method output breaking at each end.\n",
    "    \n",
    "    print(\"Shape of dataframe: {}\".format(x.shape)) # Gives the shape of the data.\n",
    "    \n",
    "    print(\"\\n {} \\n\".format((divider*20))) #creates a dvider between each method output breaking at each end.\n",
    "    return\n",
    "explore(data)"
   ]
  },
  {
   "cell_type": "markdown",
   "metadata": {},
   "source": [
    "Фільтрація даних по даті від почтаку запуску A/B тесту. "
   ]
  },
  {
   "cell_type": "code",
   "execution_count": 65,
   "metadata": {},
   "outputs": [
    {
     "data": {
      "text/html": [
       "<div>\n",
       "<style scoped>\n",
       "    .dataframe tbody tr th:only-of-type {\n",
       "        vertical-align: middle;\n",
       "    }\n",
       "\n",
       "    .dataframe tbody tr th {\n",
       "        vertical-align: top;\n",
       "    }\n",
       "\n",
       "    .dataframe thead th {\n",
       "        text-align: right;\n",
       "    }\n",
       "</style>\n",
       "<table border=\"1\" class=\"dataframe\">\n",
       "  <thead>\n",
       "    <tr style=\"text-align: right;\">\n",
       "      <th></th>\n",
       "      <th>sender_id</th>\n",
       "      <th>platform_id</th>\n",
       "      <th>time_stamp</th>\n",
       "      <th>gender</th>\n",
       "      <th>reg_date</th>\n",
       "    </tr>\n",
       "  </thead>\n",
       "  <tbody>\n",
       "    <tr>\n",
       "      <th>150161</th>\n",
       "      <td>3218632174</td>\n",
       "      <td>7</td>\n",
       "      <td>2017-03-26 07:34:00</td>\n",
       "      <td>m</td>\n",
       "      <td>2017-03-23</td>\n",
       "    </tr>\n",
       "    <tr>\n",
       "      <th>150162</th>\n",
       "      <td>3218635027</td>\n",
       "      <td>7</td>\n",
       "      <td>2017-03-26 06:19:00</td>\n",
       "      <td>m</td>\n",
       "      <td>2017-03-23</td>\n",
       "    </tr>\n",
       "    <tr>\n",
       "      <th>150163</th>\n",
       "      <td>3218635027</td>\n",
       "      <td>7</td>\n",
       "      <td>2017-03-26 06:19:00</td>\n",
       "      <td>m</td>\n",
       "      <td>2017-03-23</td>\n",
       "    </tr>\n",
       "    <tr>\n",
       "      <th>150164</th>\n",
       "      <td>3218635027</td>\n",
       "      <td>7</td>\n",
       "      <td>2017-03-26 06:18:00</td>\n",
       "      <td>m</td>\n",
       "      <td>2017-03-23</td>\n",
       "    </tr>\n",
       "    <tr>\n",
       "      <th>150165</th>\n",
       "      <td>3218635027</td>\n",
       "      <td>7</td>\n",
       "      <td>2017-03-26 06:19:00</td>\n",
       "      <td>m</td>\n",
       "      <td>2017-03-23</td>\n",
       "    </tr>\n",
       "    <tr>\n",
       "      <th>150166</th>\n",
       "      <td>3218635027</td>\n",
       "      <td>7</td>\n",
       "      <td>2017-03-26 06:19:00</td>\n",
       "      <td>m</td>\n",
       "      <td>2017-03-23</td>\n",
       "    </tr>\n",
       "    <tr>\n",
       "      <th>150167</th>\n",
       "      <td>3218648279</td>\n",
       "      <td>7</td>\n",
       "      <td>2017-03-26 05:11:00</td>\n",
       "      <td>m</td>\n",
       "      <td>2017-03-23</td>\n",
       "    </tr>\n",
       "    <tr>\n",
       "      <th>150168</th>\n",
       "      <td>3218648279</td>\n",
       "      <td>7</td>\n",
       "      <td>2017-03-26 05:10:00</td>\n",
       "      <td>m</td>\n",
       "      <td>2017-03-23</td>\n",
       "    </tr>\n",
       "    <tr>\n",
       "      <th>150169</th>\n",
       "      <td>3218648279</td>\n",
       "      <td>7</td>\n",
       "      <td>2017-03-26 05:11:00</td>\n",
       "      <td>m</td>\n",
       "      <td>2017-03-23</td>\n",
       "    </tr>\n",
       "    <tr>\n",
       "      <th>150170</th>\n",
       "      <td>3218648279</td>\n",
       "      <td>7</td>\n",
       "      <td>2017-03-26 05:08:00</td>\n",
       "      <td>m</td>\n",
       "      <td>2017-03-23</td>\n",
       "    </tr>\n",
       "    <tr>\n",
       "      <th>150171</th>\n",
       "      <td>3218648279</td>\n",
       "      <td>7</td>\n",
       "      <td>2017-03-26 05:08:00</td>\n",
       "      <td>m</td>\n",
       "      <td>2017-03-23</td>\n",
       "    </tr>\n",
       "    <tr>\n",
       "      <th>150172</th>\n",
       "      <td>3218648279</td>\n",
       "      <td>7</td>\n",
       "      <td>2017-03-26 05:08:00</td>\n",
       "      <td>m</td>\n",
       "      <td>2017-03-23</td>\n",
       "    </tr>\n",
       "    <tr>\n",
       "      <th>150173</th>\n",
       "      <td>3218648279</td>\n",
       "      <td>7</td>\n",
       "      <td>2017-03-26 05:11:00</td>\n",
       "      <td>m</td>\n",
       "      <td>2017-03-23</td>\n",
       "    </tr>\n",
       "    <tr>\n",
       "      <th>150174</th>\n",
       "      <td>3218648279</td>\n",
       "      <td>7</td>\n",
       "      <td>2017-03-26 05:08:00</td>\n",
       "      <td>m</td>\n",
       "      <td>2017-03-23</td>\n",
       "    </tr>\n",
       "    <tr>\n",
       "      <th>150175</th>\n",
       "      <td>3218648279</td>\n",
       "      <td>7</td>\n",
       "      <td>2017-03-26 05:09:00</td>\n",
       "      <td>m</td>\n",
       "      <td>2017-03-23</td>\n",
       "    </tr>\n",
       "    <tr>\n",
       "      <th>150176</th>\n",
       "      <td>3218648279</td>\n",
       "      <td>7</td>\n",
       "      <td>2017-03-26 05:09:00</td>\n",
       "      <td>m</td>\n",
       "      <td>2017-03-23</td>\n",
       "    </tr>\n",
       "    <tr>\n",
       "      <th>150177</th>\n",
       "      <td>3218648279</td>\n",
       "      <td>7</td>\n",
       "      <td>2017-03-26 05:08:00</td>\n",
       "      <td>m</td>\n",
       "      <td>2017-03-23</td>\n",
       "    </tr>\n",
       "    <tr>\n",
       "      <th>150178</th>\n",
       "      <td>3218648279</td>\n",
       "      <td>7</td>\n",
       "      <td>2017-03-26 05:08:00</td>\n",
       "      <td>m</td>\n",
       "      <td>2017-03-23</td>\n",
       "    </tr>\n",
       "    <tr>\n",
       "      <th>150179</th>\n",
       "      <td>3218648279</td>\n",
       "      <td>7</td>\n",
       "      <td>2017-03-26 05:08:00</td>\n",
       "      <td>m</td>\n",
       "      <td>2017-03-23</td>\n",
       "    </tr>\n",
       "    <tr>\n",
       "      <th>150180</th>\n",
       "      <td>3218648279</td>\n",
       "      <td>7</td>\n",
       "      <td>2017-03-26 05:11:00</td>\n",
       "      <td>m</td>\n",
       "      <td>2017-03-23</td>\n",
       "    </tr>\n",
       "  </tbody>\n",
       "</table>\n",
       "</div>"
      ],
      "text/plain": [
       "         sender_id  platform_id          time_stamp gender   reg_date\n",
       "150161  3218632174            7 2017-03-26 07:34:00      m 2017-03-23\n",
       "150162  3218635027            7 2017-03-26 06:19:00      m 2017-03-23\n",
       "150163  3218635027            7 2017-03-26 06:19:00      m 2017-03-23\n",
       "150164  3218635027            7 2017-03-26 06:18:00      m 2017-03-23\n",
       "150165  3218635027            7 2017-03-26 06:19:00      m 2017-03-23\n",
       "150166  3218635027            7 2017-03-26 06:19:00      m 2017-03-23\n",
       "150167  3218648279            7 2017-03-26 05:11:00      m 2017-03-23\n",
       "150168  3218648279            7 2017-03-26 05:10:00      m 2017-03-23\n",
       "150169  3218648279            7 2017-03-26 05:11:00      m 2017-03-23\n",
       "150170  3218648279            7 2017-03-26 05:08:00      m 2017-03-23\n",
       "150171  3218648279            7 2017-03-26 05:08:00      m 2017-03-23\n",
       "150172  3218648279            7 2017-03-26 05:08:00      m 2017-03-23\n",
       "150173  3218648279            7 2017-03-26 05:11:00      m 2017-03-23\n",
       "150174  3218648279            7 2017-03-26 05:08:00      m 2017-03-23\n",
       "150175  3218648279            7 2017-03-26 05:09:00      m 2017-03-23\n",
       "150176  3218648279            7 2017-03-26 05:09:00      m 2017-03-23\n",
       "150177  3218648279            7 2017-03-26 05:08:00      m 2017-03-23\n",
       "150178  3218648279            7 2017-03-26 05:08:00      m 2017-03-23\n",
       "150179  3218648279            7 2017-03-26 05:08:00      m 2017-03-23\n",
       "150180  3218648279            7 2017-03-26 05:11:00      m 2017-03-23"
      ]
     },
     "execution_count": 65,
     "metadata": {},
     "output_type": "execute_result"
    }
   ],
   "source": [
    "test_data = data[data['time_stamp'] >= \"2017-03-24 16:00\"]\n",
    "test_data.head(20)"
   ]
  },
  {
   "cell_type": "code",
   "execution_count": 66,
   "metadata": {},
   "outputs": [
    {
     "data": {
      "text/plain": [
       "(107592, 5)"
      ]
     },
     "execution_count": 66,
     "metadata": {},
     "output_type": "execute_result"
    }
   ],
   "source": [
    "test_data.shape"
   ]
  },
  {
   "cell_type": "markdown",
   "metadata": {},
   "source": [
    "Розподіл на тестову та контрольну вибірку"
   ]
  },
  {
   "cell_type": "code",
   "execution_count": 67,
   "metadata": {},
   "outputs": [
    {
     "name": "stderr",
     "output_type": "stream",
     "text": [
      "C:\\Users\\asus\\AppData\\Local\\Temp\\ipykernel_13700\\527756038.py:2: SettingWithCopyWarning: \n",
      "A value is trying to be set on a copy of a slice from a DataFrame.\n",
      "Try using .loc[row_indexer,col_indexer] = value instead\n",
      "\n",
      "See the caveats in the documentation: https://pandas.pydata.org/pandas-docs/stable/user_guide/indexing.html#returning-a-view-versus-a-copy\n",
      "  test_data['group'] = np.where(test_data['sender_id'] % 2 == 0, 'control', 'test')\n"
     ]
    },
    {
     "data": {
      "text/html": [
       "<div>\n",
       "<style scoped>\n",
       "    .dataframe tbody tr th:only-of-type {\n",
       "        vertical-align: middle;\n",
       "    }\n",
       "\n",
       "    .dataframe tbody tr th {\n",
       "        vertical-align: top;\n",
       "    }\n",
       "\n",
       "    .dataframe thead th {\n",
       "        text-align: right;\n",
       "    }\n",
       "</style>\n",
       "<table border=\"1\" class=\"dataframe\">\n",
       "  <thead>\n",
       "    <tr style=\"text-align: right;\">\n",
       "      <th></th>\n",
       "      <th>sender_id</th>\n",
       "      <th>platform_id</th>\n",
       "      <th>time_stamp</th>\n",
       "      <th>gender</th>\n",
       "      <th>reg_date</th>\n",
       "      <th>group</th>\n",
       "    </tr>\n",
       "  </thead>\n",
       "  <tbody>\n",
       "    <tr>\n",
       "      <th>150161</th>\n",
       "      <td>3218632174</td>\n",
       "      <td>7</td>\n",
       "      <td>2017-03-26 07:34:00</td>\n",
       "      <td>m</td>\n",
       "      <td>2017-03-23</td>\n",
       "      <td>control</td>\n",
       "    </tr>\n",
       "    <tr>\n",
       "      <th>150162</th>\n",
       "      <td>3218635027</td>\n",
       "      <td>7</td>\n",
       "      <td>2017-03-26 06:19:00</td>\n",
       "      <td>m</td>\n",
       "      <td>2017-03-23</td>\n",
       "      <td>test</td>\n",
       "    </tr>\n",
       "    <tr>\n",
       "      <th>150163</th>\n",
       "      <td>3218635027</td>\n",
       "      <td>7</td>\n",
       "      <td>2017-03-26 06:19:00</td>\n",
       "      <td>m</td>\n",
       "      <td>2017-03-23</td>\n",
       "      <td>test</td>\n",
       "    </tr>\n",
       "    <tr>\n",
       "      <th>150164</th>\n",
       "      <td>3218635027</td>\n",
       "      <td>7</td>\n",
       "      <td>2017-03-26 06:18:00</td>\n",
       "      <td>m</td>\n",
       "      <td>2017-03-23</td>\n",
       "      <td>test</td>\n",
       "    </tr>\n",
       "    <tr>\n",
       "      <th>150165</th>\n",
       "      <td>3218635027</td>\n",
       "      <td>7</td>\n",
       "      <td>2017-03-26 06:19:00</td>\n",
       "      <td>m</td>\n",
       "      <td>2017-03-23</td>\n",
       "      <td>test</td>\n",
       "    </tr>\n",
       "    <tr>\n",
       "      <th>150166</th>\n",
       "      <td>3218635027</td>\n",
       "      <td>7</td>\n",
       "      <td>2017-03-26 06:19:00</td>\n",
       "      <td>m</td>\n",
       "      <td>2017-03-23</td>\n",
       "      <td>test</td>\n",
       "    </tr>\n",
       "    <tr>\n",
       "      <th>150167</th>\n",
       "      <td>3218648279</td>\n",
       "      <td>7</td>\n",
       "      <td>2017-03-26 05:11:00</td>\n",
       "      <td>m</td>\n",
       "      <td>2017-03-23</td>\n",
       "      <td>test</td>\n",
       "    </tr>\n",
       "    <tr>\n",
       "      <th>150168</th>\n",
       "      <td>3218648279</td>\n",
       "      <td>7</td>\n",
       "      <td>2017-03-26 05:10:00</td>\n",
       "      <td>m</td>\n",
       "      <td>2017-03-23</td>\n",
       "      <td>test</td>\n",
       "    </tr>\n",
       "    <tr>\n",
       "      <th>150169</th>\n",
       "      <td>3218648279</td>\n",
       "      <td>7</td>\n",
       "      <td>2017-03-26 05:11:00</td>\n",
       "      <td>m</td>\n",
       "      <td>2017-03-23</td>\n",
       "      <td>test</td>\n",
       "    </tr>\n",
       "    <tr>\n",
       "      <th>150170</th>\n",
       "      <td>3218648279</td>\n",
       "      <td>7</td>\n",
       "      <td>2017-03-26 05:08:00</td>\n",
       "      <td>m</td>\n",
       "      <td>2017-03-23</td>\n",
       "      <td>test</td>\n",
       "    </tr>\n",
       "    <tr>\n",
       "      <th>150171</th>\n",
       "      <td>3218648279</td>\n",
       "      <td>7</td>\n",
       "      <td>2017-03-26 05:08:00</td>\n",
       "      <td>m</td>\n",
       "      <td>2017-03-23</td>\n",
       "      <td>test</td>\n",
       "    </tr>\n",
       "    <tr>\n",
       "      <th>150172</th>\n",
       "      <td>3218648279</td>\n",
       "      <td>7</td>\n",
       "      <td>2017-03-26 05:08:00</td>\n",
       "      <td>m</td>\n",
       "      <td>2017-03-23</td>\n",
       "      <td>test</td>\n",
       "    </tr>\n",
       "    <tr>\n",
       "      <th>150173</th>\n",
       "      <td>3218648279</td>\n",
       "      <td>7</td>\n",
       "      <td>2017-03-26 05:11:00</td>\n",
       "      <td>m</td>\n",
       "      <td>2017-03-23</td>\n",
       "      <td>test</td>\n",
       "    </tr>\n",
       "    <tr>\n",
       "      <th>150174</th>\n",
       "      <td>3218648279</td>\n",
       "      <td>7</td>\n",
       "      <td>2017-03-26 05:08:00</td>\n",
       "      <td>m</td>\n",
       "      <td>2017-03-23</td>\n",
       "      <td>test</td>\n",
       "    </tr>\n",
       "    <tr>\n",
       "      <th>150175</th>\n",
       "      <td>3218648279</td>\n",
       "      <td>7</td>\n",
       "      <td>2017-03-26 05:09:00</td>\n",
       "      <td>m</td>\n",
       "      <td>2017-03-23</td>\n",
       "      <td>test</td>\n",
       "    </tr>\n",
       "    <tr>\n",
       "      <th>150176</th>\n",
       "      <td>3218648279</td>\n",
       "      <td>7</td>\n",
       "      <td>2017-03-26 05:09:00</td>\n",
       "      <td>m</td>\n",
       "      <td>2017-03-23</td>\n",
       "      <td>test</td>\n",
       "    </tr>\n",
       "    <tr>\n",
       "      <th>150177</th>\n",
       "      <td>3218648279</td>\n",
       "      <td>7</td>\n",
       "      <td>2017-03-26 05:08:00</td>\n",
       "      <td>m</td>\n",
       "      <td>2017-03-23</td>\n",
       "      <td>test</td>\n",
       "    </tr>\n",
       "    <tr>\n",
       "      <th>150178</th>\n",
       "      <td>3218648279</td>\n",
       "      <td>7</td>\n",
       "      <td>2017-03-26 05:08:00</td>\n",
       "      <td>m</td>\n",
       "      <td>2017-03-23</td>\n",
       "      <td>test</td>\n",
       "    </tr>\n",
       "    <tr>\n",
       "      <th>150179</th>\n",
       "      <td>3218648279</td>\n",
       "      <td>7</td>\n",
       "      <td>2017-03-26 05:08:00</td>\n",
       "      <td>m</td>\n",
       "      <td>2017-03-23</td>\n",
       "      <td>test</td>\n",
       "    </tr>\n",
       "    <tr>\n",
       "      <th>150180</th>\n",
       "      <td>3218648279</td>\n",
       "      <td>7</td>\n",
       "      <td>2017-03-26 05:11:00</td>\n",
       "      <td>m</td>\n",
       "      <td>2017-03-23</td>\n",
       "      <td>test</td>\n",
       "    </tr>\n",
       "  </tbody>\n",
       "</table>\n",
       "</div>"
      ],
      "text/plain": [
       "         sender_id  platform_id          time_stamp gender   reg_date    group\n",
       "150161  3218632174            7 2017-03-26 07:34:00      m 2017-03-23  control\n",
       "150162  3218635027            7 2017-03-26 06:19:00      m 2017-03-23     test\n",
       "150163  3218635027            7 2017-03-26 06:19:00      m 2017-03-23     test\n",
       "150164  3218635027            7 2017-03-26 06:18:00      m 2017-03-23     test\n",
       "150165  3218635027            7 2017-03-26 06:19:00      m 2017-03-23     test\n",
       "150166  3218635027            7 2017-03-26 06:19:00      m 2017-03-23     test\n",
       "150167  3218648279            7 2017-03-26 05:11:00      m 2017-03-23     test\n",
       "150168  3218648279            7 2017-03-26 05:10:00      m 2017-03-23     test\n",
       "150169  3218648279            7 2017-03-26 05:11:00      m 2017-03-23     test\n",
       "150170  3218648279            7 2017-03-26 05:08:00      m 2017-03-23     test\n",
       "150171  3218648279            7 2017-03-26 05:08:00      m 2017-03-23     test\n",
       "150172  3218648279            7 2017-03-26 05:08:00      m 2017-03-23     test\n",
       "150173  3218648279            7 2017-03-26 05:11:00      m 2017-03-23     test\n",
       "150174  3218648279            7 2017-03-26 05:08:00      m 2017-03-23     test\n",
       "150175  3218648279            7 2017-03-26 05:09:00      m 2017-03-23     test\n",
       "150176  3218648279            7 2017-03-26 05:09:00      m 2017-03-23     test\n",
       "150177  3218648279            7 2017-03-26 05:08:00      m 2017-03-23     test\n",
       "150178  3218648279            7 2017-03-26 05:08:00      m 2017-03-23     test\n",
       "150179  3218648279            7 2017-03-26 05:08:00      m 2017-03-23     test\n",
       "150180  3218648279            7 2017-03-26 05:11:00      m 2017-03-23     test"
      ]
     },
     "execution_count": 67,
     "metadata": {},
     "output_type": "execute_result"
    }
   ],
   "source": [
    "import numpy as np\n",
    "test_data['group'] = np.where(test_data['sender_id'] % 2 == 0, 'control', 'test')\n",
    "test_data.head(20)\n"
   ]
  },
  {
   "cell_type": "code",
   "execution_count": 68,
   "metadata": {},
   "outputs": [
    {
     "data": {
      "text/plain": [
       "(57628, 6)"
      ]
     },
     "execution_count": 68,
     "metadata": {},
     "output_type": "execute_result"
    }
   ],
   "source": [
    "control_group = test_data[test_data['group'] == \"control\"]\n",
    "control_group.shape"
   ]
  },
  {
   "cell_type": "code",
   "execution_count": 69,
   "metadata": {},
   "outputs": [
    {
     "data": {
      "text/plain": [
       "(49964, 6)"
      ]
     },
     "execution_count": 69,
     "metadata": {},
     "output_type": "execute_result"
    }
   ],
   "source": [
    "test_group = test_data[test_data['group'] == \"test\"]\n",
    "test_group.shape"
   ]
  },
  {
   "cell_type": "markdown",
   "metadata": {},
   "source": [
    "Групування по юзеру кількості лайків "
   ]
  },
  {
   "cell_type": "code",
   "execution_count": 70,
   "metadata": {},
   "outputs": [
    {
     "data": {
      "text/html": [
       "<div>\n",
       "<style scoped>\n",
       "    .dataframe tbody tr th:only-of-type {\n",
       "        vertical-align: middle;\n",
       "    }\n",
       "\n",
       "    .dataframe tbody tr th {\n",
       "        vertical-align: top;\n",
       "    }\n",
       "\n",
       "    .dataframe thead th {\n",
       "        text-align: right;\n",
       "    }\n",
       "</style>\n",
       "<table border=\"1\" class=\"dataframe\">\n",
       "  <thead>\n",
       "    <tr style=\"text-align: right;\">\n",
       "      <th></th>\n",
       "      <th>sender_id</th>\n",
       "      <th>count</th>\n",
       "      <th>group</th>\n",
       "    </tr>\n",
       "  </thead>\n",
       "  <tbody>\n",
       "    <tr>\n",
       "      <th>0</th>\n",
       "      <td>3204314070</td>\n",
       "      <td>1154</td>\n",
       "      <td>control</td>\n",
       "    </tr>\n",
       "    <tr>\n",
       "      <th>1</th>\n",
       "      <td>3202057642</td>\n",
       "      <td>1131</td>\n",
       "      <td>control</td>\n",
       "    </tr>\n",
       "    <tr>\n",
       "      <th>2</th>\n",
       "      <td>3204297224</td>\n",
       "      <td>1007</td>\n",
       "      <td>control</td>\n",
       "    </tr>\n",
       "    <tr>\n",
       "      <th>3</th>\n",
       "      <td>3203188184</td>\n",
       "      <td>564</td>\n",
       "      <td>control</td>\n",
       "    </tr>\n",
       "    <tr>\n",
       "      <th>4</th>\n",
       "      <td>3208166984</td>\n",
       "      <td>520</td>\n",
       "      <td>control</td>\n",
       "    </tr>\n",
       "    <tr>\n",
       "      <th>...</th>\n",
       "      <td>...</td>\n",
       "      <td>...</td>\n",
       "      <td>...</td>\n",
       "    </tr>\n",
       "    <tr>\n",
       "      <th>3721</th>\n",
       "      <td>3216845016</td>\n",
       "      <td>1</td>\n",
       "      <td>control</td>\n",
       "    </tr>\n",
       "    <tr>\n",
       "      <th>3722</th>\n",
       "      <td>3216983038</td>\n",
       "      <td>1</td>\n",
       "      <td>control</td>\n",
       "    </tr>\n",
       "    <tr>\n",
       "      <th>3723</th>\n",
       "      <td>3215613188</td>\n",
       "      <td>1</td>\n",
       "      <td>control</td>\n",
       "    </tr>\n",
       "    <tr>\n",
       "      <th>3724</th>\n",
       "      <td>3215845496</td>\n",
       "      <td>1</td>\n",
       "      <td>control</td>\n",
       "    </tr>\n",
       "    <tr>\n",
       "      <th>3725</th>\n",
       "      <td>3219278492</td>\n",
       "      <td>1</td>\n",
       "      <td>control</td>\n",
       "    </tr>\n",
       "  </tbody>\n",
       "</table>\n",
       "<p>3726 rows × 3 columns</p>\n",
       "</div>"
      ],
      "text/plain": [
       "       sender_id  count    group\n",
       "0     3204314070   1154  control\n",
       "1     3202057642   1131  control\n",
       "2     3204297224   1007  control\n",
       "3     3203188184    564  control\n",
       "4     3208166984    520  control\n",
       "...          ...    ...      ...\n",
       "3721  3216845016      1  control\n",
       "3722  3216983038      1  control\n",
       "3723  3215613188      1  control\n",
       "3724  3215845496      1  control\n",
       "3725  3219278492      1  control\n",
       "\n",
       "[3726 rows x 3 columns]"
      ]
     },
     "execution_count": 70,
     "metadata": {},
     "output_type": "execute_result"
    }
   ],
   "source": [
    "control_sample = control_group['sender_id'].value_counts().reset_index()\n",
    "control_sample.columns = ['sender_id', 'count']\n",
    "control_sample['group'] = 'control'\n",
    "control_sample"
   ]
  },
  {
   "cell_type": "markdown",
   "metadata": {},
   "source": [
    "Копіювання вибірок для використання їх у калькуляторі https://www.evanmiller.org/ab-testing/t-test.html#!15.466452/44.782857/3726;13.851955/26.280121/3607@94"
   ]
  },
  {
   "cell_type": "code",
   "execution_count": 71,
   "metadata": {},
   "outputs": [],
   "source": [
    "import pyperclip\n",
    "\n",
    "count_value = control_sample['count'].to_string(index=False)\n",
    "\n",
    "pyperclip.copy(count_value)"
   ]
  },
  {
   "cell_type": "code",
   "execution_count": 72,
   "metadata": {},
   "outputs": [
    {
     "data": {
      "text/html": [
       "<div>\n",
       "<style scoped>\n",
       "    .dataframe tbody tr th:only-of-type {\n",
       "        vertical-align: middle;\n",
       "    }\n",
       "\n",
       "    .dataframe tbody tr th {\n",
       "        vertical-align: top;\n",
       "    }\n",
       "\n",
       "    .dataframe thead th {\n",
       "        text-align: right;\n",
       "    }\n",
       "</style>\n",
       "<table border=\"1\" class=\"dataframe\">\n",
       "  <thead>\n",
       "    <tr style=\"text-align: right;\">\n",
       "      <th></th>\n",
       "      <th>sender_id</th>\n",
       "      <th>count</th>\n",
       "      <th>group</th>\n",
       "    </tr>\n",
       "  </thead>\n",
       "  <tbody>\n",
       "    <tr>\n",
       "      <th>0</th>\n",
       "      <td>3209914479</td>\n",
       "      <td>402</td>\n",
       "      <td>test</td>\n",
       "    </tr>\n",
       "    <tr>\n",
       "      <th>1</th>\n",
       "      <td>3214070377</td>\n",
       "      <td>326</td>\n",
       "      <td>test</td>\n",
       "    </tr>\n",
       "    <tr>\n",
       "      <th>2</th>\n",
       "      <td>3217001283</td>\n",
       "      <td>324</td>\n",
       "      <td>test</td>\n",
       "    </tr>\n",
       "    <tr>\n",
       "      <th>3</th>\n",
       "      <td>3209547095</td>\n",
       "      <td>308</td>\n",
       "      <td>test</td>\n",
       "    </tr>\n",
       "    <tr>\n",
       "      <th>4</th>\n",
       "      <td>3208186485</td>\n",
       "      <td>291</td>\n",
       "      <td>test</td>\n",
       "    </tr>\n",
       "    <tr>\n",
       "      <th>...</th>\n",
       "      <td>...</td>\n",
       "      <td>...</td>\n",
       "      <td>...</td>\n",
       "    </tr>\n",
       "    <tr>\n",
       "      <th>3602</th>\n",
       "      <td>3202935865</td>\n",
       "      <td>1</td>\n",
       "      <td>test</td>\n",
       "    </tr>\n",
       "    <tr>\n",
       "      <th>3603</th>\n",
       "      <td>3202796873</td>\n",
       "      <td>1</td>\n",
       "      <td>test</td>\n",
       "    </tr>\n",
       "    <tr>\n",
       "      <th>3604</th>\n",
       "      <td>3218881775</td>\n",
       "      <td>1</td>\n",
       "      <td>test</td>\n",
       "    </tr>\n",
       "    <tr>\n",
       "      <th>3605</th>\n",
       "      <td>3203424789</td>\n",
       "      <td>1</td>\n",
       "      <td>test</td>\n",
       "    </tr>\n",
       "    <tr>\n",
       "      <th>3606</th>\n",
       "      <td>3219279739</td>\n",
       "      <td>1</td>\n",
       "      <td>test</td>\n",
       "    </tr>\n",
       "  </tbody>\n",
       "</table>\n",
       "<p>3607 rows × 3 columns</p>\n",
       "</div>"
      ],
      "text/plain": [
       "       sender_id  count group\n",
       "0     3209914479    402  test\n",
       "1     3214070377    326  test\n",
       "2     3217001283    324  test\n",
       "3     3209547095    308  test\n",
       "4     3208186485    291  test\n",
       "...          ...    ...   ...\n",
       "3602  3202935865      1  test\n",
       "3603  3202796873      1  test\n",
       "3604  3218881775      1  test\n",
       "3605  3203424789      1  test\n",
       "3606  3219279739      1  test\n",
       "\n",
       "[3607 rows x 3 columns]"
      ]
     },
     "execution_count": 72,
     "metadata": {},
     "output_type": "execute_result"
    }
   ],
   "source": [
    "test_sample = test_group['sender_id'].value_counts().reset_index()\n",
    "test_sample.columns = ['sender_id', 'count']\n",
    "test_sample['group'] = 'test'\n",
    "test_sample"
   ]
  },
  {
   "cell_type": "code",
   "execution_count": 73,
   "metadata": {},
   "outputs": [],
   "source": [
    "count_value = test_sample['count'].to_string(index=False)\n",
    "\n",
    "pyperclip.copy(count_value)"
   ]
  },
  {
   "cell_type": "markdown",
   "metadata": {},
   "source": [
    "Результати 2 sample t test:"
   ]
  },
  {
   "cell_type": "code",
   "execution_count": 74,
   "metadata": {},
   "outputs": [
    {
     "data": {
      "text/plain": [
       "TtestResult(statistic=1.8899896392237212, pvalue=0.058807064165141365, df=6055.079209116059)"
      ]
     },
     "execution_count": 74,
     "metadata": {},
     "output_type": "execute_result"
    }
   ],
   "source": [
    "import scipy.stats as stats\n",
    "stats.ttest_ind(a=control_sample['count'],\n",
    "                b=test_sample['count'],\n",
    "                equal_var=False)"
   ]
  },
  {
   "cell_type": "code",
   "execution_count": 75,
   "metadata": {},
   "outputs": [
    {
     "data": {
      "text/html": [
       "<div>\n",
       "<style scoped>\n",
       "    .dataframe tbody tr th:only-of-type {\n",
       "        vertical-align: middle;\n",
       "    }\n",
       "\n",
       "    .dataframe tbody tr th {\n",
       "        vertical-align: top;\n",
       "    }\n",
       "\n",
       "    .dataframe thead th {\n",
       "        text-align: right;\n",
       "    }\n",
       "</style>\n",
       "<table border=\"1\" class=\"dataframe\">\n",
       "  <thead>\n",
       "    <tr style=\"text-align: right;\">\n",
       "      <th></th>\n",
       "      <th>group</th>\n",
       "      <th>sender_id</th>\n",
       "    </tr>\n",
       "  </thead>\n",
       "  <tbody>\n",
       "    <tr>\n",
       "      <th>0</th>\n",
       "      <td>control</td>\n",
       "      <td>57628</td>\n",
       "    </tr>\n",
       "    <tr>\n",
       "      <th>1</th>\n",
       "      <td>test</td>\n",
       "      <td>49964</td>\n",
       "    </tr>\n",
       "  </tbody>\n",
       "</table>\n",
       "</div>"
      ],
      "text/plain": [
       "     group  sender_id\n",
       "0  control      57628\n",
       "1     test      49964"
      ]
     },
     "execution_count": 75,
     "metadata": {},
     "output_type": "execute_result"
    }
   ],
   "source": [
    "data_group = test_data.groupby(['group']).agg({'sender_id' : 'count'}).reset_index()\n",
    "data_group"
   ]
  },
  {
   "cell_type": "code",
   "execution_count": 76,
   "metadata": {},
   "outputs": [
    {
     "data": {
      "text/html": [
       "<div>\n",
       "<style scoped>\n",
       "    .dataframe tbody tr th:only-of-type {\n",
       "        vertical-align: middle;\n",
       "    }\n",
       "\n",
       "    .dataframe tbody tr th {\n",
       "        vertical-align: top;\n",
       "    }\n",
       "\n",
       "    .dataframe thead th {\n",
       "        text-align: right;\n",
       "    }\n",
       "</style>\n",
       "<table border=\"1\" class=\"dataframe\">\n",
       "  <thead>\n",
       "    <tr style=\"text-align: right;\">\n",
       "      <th></th>\n",
       "      <th>group</th>\n",
       "      <th>sender_id</th>\n",
       "    </tr>\n",
       "  </thead>\n",
       "  <tbody>\n",
       "    <tr>\n",
       "      <th>0</th>\n",
       "      <td>control</td>\n",
       "      <td>3726</td>\n",
       "    </tr>\n",
       "    <tr>\n",
       "      <th>1</th>\n",
       "      <td>test</td>\n",
       "      <td>3607</td>\n",
       "    </tr>\n",
       "  </tbody>\n",
       "</table>\n",
       "</div>"
      ],
      "text/plain": [
       "     group  sender_id\n",
       "0  control       3726\n",
       "1     test       3607"
      ]
     },
     "execution_count": 76,
     "metadata": {},
     "output_type": "execute_result"
    }
   ],
   "source": [
    "data_group = test_data.groupby(['group']).agg({'sender_id' : 'nunique'}).reset_index()\n",
    "data_group"
   ]
  },
  {
   "cell_type": "markdown",
   "metadata": {},
   "source": [
    "ALTERNATIVE VERSION"
   ]
  },
  {
   "cell_type": "markdown",
   "metadata": {},
   "source": [
    "Test for Male users:"
   ]
  },
  {
   "cell_type": "code",
   "execution_count": 77,
   "metadata": {},
   "outputs": [],
   "source": [
    "male_control_group = test_data[(test_data['group'] == \"control\") & (test_data['gender'] == 'm')]\n",
    "male_control_sample = male_control_group['sender_id'].value_counts().reset_index()\n",
    "male_control_sample.columns = ['sender_id', 'count']"
   ]
  },
  {
   "cell_type": "code",
   "execution_count": 78,
   "metadata": {},
   "outputs": [],
   "source": [
    "male_test_group = test_data[(test_data['group'] == \"test\") & (test_data['gender'] == 'm')]\n",
    "male_test_sample = male_test_group['sender_id'].value_counts().reset_index()\n",
    "male_test_sample.columns = ['sender_id', 'count']"
   ]
  },
  {
   "cell_type": "code",
   "execution_count": 79,
   "metadata": {},
   "outputs": [
    {
     "name": "stdout",
     "output_type": "stream",
     "text": [
      "mcg likes/users: 50550/2870\n",
      "mtg likes/users: 42975/2811\n"
     ]
    }
   ],
   "source": [
    "print('mcg likes/users: '+str(male_control_group.shape[0])+'/'+str(male_control_sample.shape[0]))\n",
    "print('mtg likes/users: '+str(male_test_group.shape[0])+'/'+str(male_test_sample.shape[0]))"
   ]
  },
  {
   "cell_type": "code",
   "execution_count": 80,
   "metadata": {},
   "outputs": [
    {
     "data": {
      "text/plain": [
       "TtestResult(statistic=2.1607866307887793, pvalue=0.03076392447843963, df=4543.554241705393)"
      ]
     },
     "execution_count": 80,
     "metadata": {},
     "output_type": "execute_result"
    }
   ],
   "source": [
    "stats.ttest_ind(a=male_control_sample['count'],\n",
    "                b=male_test_sample['count'],\n",
    "                equal_var=False)"
   ]
  },
  {
   "cell_type": "markdown",
   "metadata": {},
   "source": [
    "for male users control is SIGNIFICANTLY better"
   ]
  },
  {
   "cell_type": "code",
   "execution_count": 81,
   "metadata": {},
   "outputs": [],
   "source": [
    "female_control_group = test_data[(test_data['group'] == \"control\") & (test_data['gender'] == 'f')]\n",
    "female_control_sample = female_control_group['sender_id'].value_counts().reset_index()\n",
    "female_control_sample.columns = ['sender_id', 'count']"
   ]
  },
  {
   "cell_type": "code",
   "execution_count": 82,
   "metadata": {},
   "outputs": [],
   "source": [
    "female_test_group = test_data[(test_data['group'] == \"test\") & (test_data['gender'] == 'f')]\n",
    "female_test_sample = female_test_group['sender_id'].value_counts().reset_index()\n",
    "female_test_sample.columns = ['sender_id', 'count']"
   ]
  },
  {
   "cell_type": "code",
   "execution_count": 83,
   "metadata": {},
   "outputs": [
    {
     "name": "stdout",
     "output_type": "stream",
     "text": [
      "fcg likes/users: 7078/856\n",
      "ftg likes/users: 6966/794\n"
     ]
    }
   ],
   "source": [
    "print('fcg likes/users: '+str(female_control_group.shape[0])+'/'+str(female_control_sample.shape[0]))\n",
    "print('ftg likes/users: '+str(female_test_group.shape[0])+'/'+str(female_test_sample.shape[0]))"
   ]
  },
  {
   "cell_type": "code",
   "execution_count": 84,
   "metadata": {},
   "outputs": [
    {
     "data": {
      "text/plain": [
       "TtestResult(statistic=-0.6265424090639411, pvalue=0.53104765021982, df=1617.3311331917494)"
      ]
     },
     "execution_count": 84,
     "metadata": {},
     "output_type": "execute_result"
    }
   ],
   "source": [
    "stats.ttest_ind(a=female_control_sample['count'],\n",
    "                b=female_test_sample['count'],\n",
    "                equal_var=False)"
   ]
  },
  {
   "cell_type": "markdown",
   "metadata": {},
   "source": [
    "for female users test no diff"
   ]
  },
  {
   "cell_type": "markdown",
   "metadata": {},
   "source": [
    "test for desltop users"
   ]
  },
  {
   "cell_type": "code",
   "execution_count": 85,
   "metadata": {},
   "outputs": [],
   "source": [
    "desktop_control_group = test_data[(test_data['group'] == \"control\") & (test_data['platform_id'] == 6)]\n",
    "desktop_control_sample = desktop_control_group['sender_id'].value_counts().reset_index()\n",
    "desktop_control_sample.columns = ['sender_id', 'count']"
   ]
  },
  {
   "cell_type": "code",
   "execution_count": 86,
   "metadata": {},
   "outputs": [],
   "source": [
    "desktop_test_group = test_data[(test_data['group'] == \"test\") & (test_data['platform_id'] == 6)]\n",
    "desktop_test_sample = desktop_test_group['sender_id'].value_counts().reset_index()\n",
    "desktop_test_sample.columns = ['sender_id', 'count']"
   ]
  },
  {
   "cell_type": "code",
   "execution_count": 87,
   "metadata": {},
   "outputs": [
    {
     "name": "stdout",
     "output_type": "stream",
     "text": [
      "dcg likes/users: 30107/1707\n",
      "dtg likes/users: 27401/1654\n"
     ]
    }
   ],
   "source": [
    "print('dcg likes/users: '+str(desktop_control_group.shape[0])+'/'+str(desktop_control_sample.shape[0]))\n",
    "print('dtg likes/users: '+str(desktop_test_group.shape[0])+'/'+str(desktop_test_sample.shape[0]))"
   ]
  },
  {
   "cell_type": "markdown",
   "metadata": {},
   "source": [
    "no significant result"
   ]
  },
  {
   "cell_type": "code",
   "execution_count": 88,
   "metadata": {},
   "outputs": [
    {
     "data": {
      "text/plain": [
       "TtestResult(statistic=0.8921542690690603, pvalue=0.37238203990049146, df=2990.0553375296595)"
      ]
     },
     "execution_count": 88,
     "metadata": {},
     "output_type": "execute_result"
    }
   ],
   "source": [
    "stats.ttest_ind(a=desktop_control_sample['count'],\n",
    "                b=desktop_test_sample['count'],\n",
    "                equal_var=False)"
   ]
  },
  {
   "cell_type": "markdown",
   "metadata": {},
   "source": [
    "mobile test"
   ]
  },
  {
   "cell_type": "code",
   "execution_count": 89,
   "metadata": {},
   "outputs": [],
   "source": [
    "mobile_control_group = test_data[(test_data['group'] == \"control\") & (test_data['platform_id'] == 7)]\n",
    "mobile_control_sample = mobile_control_group['sender_id'].value_counts().reset_index()\n",
    "mobile_control_sample.columns = ['sender_id', 'count']"
   ]
  },
  {
   "cell_type": "code",
   "execution_count": 90,
   "metadata": {},
   "outputs": [],
   "source": [
    "mobile_test_group = test_data[(test_data['group'] == \"test\") & (test_data['platform_id'] == 7)]\n",
    "mobile_test_sample = mobile_test_group['sender_id'].value_counts().reset_index()\n",
    "mobile_test_sample.columns = ['sender_id', 'count']"
   ]
  },
  {
   "cell_type": "code",
   "execution_count": 91,
   "metadata": {},
   "outputs": [
    {
     "name": "stdout",
     "output_type": "stream",
     "text": [
      "mcg likes/users: 27521/2057\n",
      "mtg likes/users: 22563/2001\n"
     ]
    }
   ],
   "source": [
    "print('mcg likes/users: '+str(mobile_control_group.shape[0])+'/'+str(mobile_control_sample.shape[0]))\n",
    "print('mtg likes/users: '+str(mobile_test_group.shape[0])+'/'+str(mobile_test_sample.shape[0]))"
   ]
  },
  {
   "cell_type": "code",
   "execution_count": 92,
   "metadata": {},
   "outputs": [
    {
     "data": {
      "text/plain": [
       "TtestResult(statistic=1.8093267811735756, pvalue=0.07049603915621758, df=3133.516781466716)"
      ]
     },
     "execution_count": 92,
     "metadata": {},
     "output_type": "execute_result"
    }
   ],
   "source": [
    "stats.ttest_ind(a=mobile_control_sample['count'],\n",
    "                b=mobile_test_sample['count'],\n",
    "                equal_var=False)"
   ]
  },
  {
   "cell_type": "markdown",
   "metadata": {},
   "source": [
    "no significant results"
   ]
  },
  {
   "cell_type": "code",
   "execution_count": 93,
   "metadata": {},
   "outputs": [
    {
     "name": "stderr",
     "output_type": "stream",
     "text": [
      "C:\\Users\\asus\\AppData\\Local\\Temp\\ipykernel_13700\\2459874951.py:10: FutureWarning: \n",
      "\n",
      "Passing `palette` without assigning `hue` is deprecated and will be removed in v0.14.0. Assign the `x` variable to `hue` and set `legend=False` for the same effect.\n",
      "\n",
      "  sns.boxplot(x='Group', y='count', data=combined_data, palette=[\"skyblue\", \"lightgreen\"])\n"
     ]
    },
    {
     "data": {
      "image/png": "[encoded data removed]",
      "text/plain": [
       "<Figure size 800x600 with 1 Axes>"
      ]
     },
     "metadata": {},
     "output_type": "display_data"
    }
   ],
   "source": [
    "import matplotlib.pyplot as plt\n",
    "import seaborn as sns\n",
    "sns.set(style=\"whitegrid\")\n",
    "control_sample['Group'] = 'Control'\n",
    "test_sample['Group'] = 'Test'\n",
    "\n",
    "combined_data = pd.concat([control_sample, test_sample])\n",
    "\n",
    "plt.figure(figsize=(8, 6))\n",
    "sns.boxplot(x='Group', y='count', data=combined_data, palette=[\"skyblue\", \"lightgreen\"])\n",
    "plt.title('Розподіл кількості лайків на користувача по группаx')\n",
    "plt.xlabel('Группа')\n",
    "plt.ylabel('Кіл-ть лайків на користувача')\n",
    "plt.show()"
   ]
  },
  {
   "cell_type": "code",
   "execution_count": 94,
   "metadata": {},
   "outputs": [
    {
     "name": "stderr",
     "output_type": "stream",
     "text": [
      "C:\\Users\\asus\\AppData\\Local\\Temp\\ipykernel_13700\\1959283953.py:8: FutureWarning: \n",
      "\n",
      "Passing `palette` without assigning `hue` is deprecated and will be removed in v0.14.0. Assign the `x` variable to `hue` and set `legend=False` for the same effect.\n",
      "\n",
      "  sns.barplot(x=['p-value', 'Alpha1 (0.05)', 'Alpha2 (0.1)'], y=[p_value, alpha1, alpha2], palette=[\"orange\", \"green\", \"red\"])\n"
     ]
    },
    {
     "data": {
      "image/png": "[encoded data removed]",
      "text/plain": [
       "<Figure size 600x600 with 1 Axes>"
      ]
     },
     "metadata": {},
     "output_type": "display_data"
    }
   ],
   "source": [
    "t_stat, p_value = stats.ttest_ind(a=control_sample['count'],\n",
    "                                  b=test_sample['count'],\n",
    "                                  equal_var=False)\n",
    "\n",
    "alpha1 = 0.05\n",
    "alpha2 = 0.1\n",
    "plt.figure(figsize=(6, 6))\n",
    "sns.barplot(x=['p-value', 'Alpha1 (0.05)', 'Alpha2 (0.1)'], y=[p_value, alpha1, alpha2], palette=[\"orange\", \"green\", \"red\"])\n",
    "plt.title('Порівняння p-value та рівнів значущості')\n",
    "plt.ylabel('Значення')\n",
    "plt.ylim(0, max(p_value, alpha1, alpha2) + 0.05)\n",
    "\n",
    "for index, value in enumerate([p_value, alpha1, alpha2]):\n",
    "    plt.text(index, value + 0.005, f\"{value:.4f}\", ha='center')\n",
    "\n",
    "plt.show()"
   ]
  },
  {
   "cell_type": "code",
   "execution_count": 95,
   "metadata": {},
   "outputs": [
    {
     "data": {
      "image/png": "[encoded data removed]",
      "text/plain": [
       "<Figure size 1400x600 with 2 Axes>"
      ]
     },
     "metadata": {},
     "output_type": "display_data"
    }
   ],
   "source": [
    "plt.figure(figsize=(14, 6))\n",
    "\n",
    "plt.subplot(1, 2, 1)\n",
    "sns.histplot(control_sample['count'], bins=30, color=\"skyblue\", kde=True)\n",
    "plt.title('Гістограма лайків на користувача (Control Group)')\n",
    "plt.xlabel('Кіл-ть лайків на користувача')\n",
    "plt.ylabel('Кіл-ть користувачів')\n",
    "\n",
    "plt.subplot(1, 2, 2)\n",
    "sns.histplot(test_sample['count'], bins=30, color=\"lightgreen\", kde=True)\n",
    "plt.title('Гістограма лайків на користувача (Test Group)')\n",
    "plt.xlabel('Кіл-ть лайків на користувача')\n",
    "plt.ylabel('Кіл-ть користувачів')\n",
    "\n",
    "plt.tight_layout()\n",
    "plt.show()\n"
   ]
  },
  {
   "cell_type": "code",
   "execution_count": 96,
   "metadata": {},
   "outputs": [
    {
     "name": "stderr",
     "output_type": "stream",
     "text": [
      "C:\\Users\\asus\\AppData\\Local\\Temp\\ipykernel_13700\\3131538552.py:7: FutureWarning: \n",
      "\n",
      "Passing `palette` without assigning `hue` is deprecated and will be removed in v0.14.0. Assign the `x` variable to `hue` and set `legend=False` for the same effect.\n",
      "\n",
      "  ax = sns.barplot(x='group', y='mean_likes', data=mean_counts, palette=\"Set2\")\n"
     ]
    },
    {
     "data": {
      "image/png": "[encoded data removed]",
      "text/plain": [
       "<Figure size 1000x600 with 1 Axes>"
      ]
     },
     "metadata": {},
     "output_type": "display_data"
    }
   ],
   "source": [
    "# Рассчитываем среднее количество лайков на пользователя для каждой группы\n",
    "mean_counts = combined_data.groupby('group')['count'].mean().reset_index()\n",
    "mean_counts.columns = ['group', 'mean_likes']\n",
    "\n",
    "# Построение столбчатой диаграммы\n",
    "plt.figure(figsize=(10, 6))\n",
    "ax = sns.barplot(x='group', y='mean_likes', data=mean_counts, palette=\"Set2\")\n",
    "plt.title('Bar Plot of Mean Likes per User in Control and Test Groups')\n",
    "plt.xlabel('Група')\n",
    "plt.ylabel('Середня кіл-ть лайків на користувача')\n",
    "\n",
    "# Добавление значений на столбцы\n",
    "for p in ax.patches:\n",
    "    ax.annotate(f'{p.get_height():.2f}', (p.get_x() + p.get_width() / 2., p.get_height()), \n",
    "                ha='center', va='center', xytext=(0, 5), textcoords='offset points')\n",
    "\n",
    "plt.grid(True)\n",
    "plt.show()\n"
   ]
  },
  {
   "cell_type": "code",
   "execution_count": 97,
   "metadata": {},
   "outputs": [
    {
     "name": "stderr",
     "output_type": "stream",
     "text": [
      "C:\\Users\\asus\\AppData\\Local\\Temp\\ipykernel_13700\\2425290019.py:2: FutureWarning: \n",
      "\n",
      "Passing `palette` without assigning `hue` is deprecated and will be removed in v0.14.0. Assign the `x` variable to `hue` and set `legend=False` for the same effect.\n",
      "\n",
      "  ax = sns.violinplot(x='group', y='count', data=combined_data, palette=\"Set2\", inner='quartile')\n"
     ]
    },
    {
     "data": {
      "image/png": "[encoded data removed]",
      "text/plain": [
       "<Figure size 1200x800 with 1 Axes>"
      ]
     },
     "metadata": {},
     "output_type": "display_data"
    }
   ],
   "source": [
    "plt.figure(figsize=(12, 8))\n",
    "ax = sns.violinplot(x='group', y='count', data=combined_data, palette=\"Set2\", inner='quartile')\n",
    "plt.title('Violin Plot of Likes per User in Control and Test Groups')\n",
    "plt.xlabel('Група')\n",
    "plt.ylabel('К-ть лайків на користувача')\n",
    "\n",
    "for i, group in enumerate(['control', 'test']):\n",
    "    group_data = combined_data[combined_data['group'] == group]\n",
    "    median = group_data['count'].median()\n",
    "    quartiles = group_data['count'].quantile([0.25, 0.75])\n",
    "    \n",
    "    plt.plot([i, i], [quartiles[0.25], quartiles[0.75]], color='red', linestyle='-', linewidth=2)\n",
    "    plt.text(i, quartiles[0.25] - 0.5, f'Q1: {quartiles[0.25]:.2f}', horizontalalignment='center', color='red')\n",
    "    plt.text(i, quartiles[0.75] + 0.5, f'Q3: {quartiles[0.75]:.2f}', horizontalalignment='center', color='red')\n",
    "\n",
    "plt.grid(True)\n",
    "plt.show()\n"
   ]
  },
  {
   "cell_type": "code",
   "execution_count": null,
   "metadata": {},
   "outputs": [],
   "source": []
  }
 ],
 "metadata": {
  "kernelspec": {
   "display_name": "Python 3",
   "language": "python",
   "name": "python3"
  },
  "language_info": {
   "codemirror_mode": {
    "name": "ipython",
    "version": 3
   },
   "file_extension": ".py",
   "mimetype": "text/x-python",
   "name": "python",
   "nbconvert_exporter": "python",
   "pygments_lexer": "ipython3",
   "version": "3.11.5"
  }
 },
 "nbformat": 4,
 "nbformat_minor": 2
}
